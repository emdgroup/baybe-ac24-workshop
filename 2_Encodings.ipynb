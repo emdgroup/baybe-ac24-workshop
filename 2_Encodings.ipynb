{
 "cells": [
  {
   "cell_type": "markdown",
   "id": "6db51034-1c6d-421f-864e-b6bfc7d8a3a6",
   "metadata": {
    "tags": []
   },
   "source": [
    "# Encodings for Categorical Variables\n",
    "\n",
    "How to use chemical and custom encodigns for your categorical variables.\n",
    "\n",
    "Find more information here:\n",
    "- [Examples in Different Search Spaces](https://emdgroup.github.io/baybe/examples/Searchspaces/Searchspaces.html)\n",
    "- [Backtesting Examples](https://emdgroup.github.io/baybe/examples/Backtesting/Backtesting.html)\n",
    "- [BayBE GitHub](https://github.com/emdgroup/baybe)\n",
    "- [BayBE Userguide](https://emdgroup.github.io/baybe/userguide/userguide.html)\n",
    "\n",
    "<a target=\"_blank\" href=\"https://colab.research.google.com/github/emdgroup/baybe-ac24-workshop/blob/main/2_Encodings.ipynb\">\n",
    "  <img src=\"https://colab.research.google.com/assets/colab-badge.svg\" alt=\"Open In Colab\"/>\n",
    "</a>\n",
    "<a target=\"_blank\" href=\"https://mybinder.org/v2/gh/emdgroup/baybe-ac24-workshop/HEAD?labpath=2_Encodings.ipynb\">\n",
    "  <img src=\"https://mybinder.org/badge_logo.svg\" alt=\"Launch Binder\"/>\n",
    "</a>"
   ]
  },
  {
   "cell_type": "markdown",
   "id": "08ad7e38-ef54-467d-91d4-ea2a657cb1b9",
   "metadata": {},
   "source": [
    "# Install and Import"
   ]
  },
  {
   "cell_type": "code",
   "execution_count": null,
   "id": "463b897f-fb8f-4fd2-9179-f343b8c76f32",
   "metadata": {},
   "outputs": [],
   "source": [
    "!pip install 'baybe[chem,simulation]==0.10.0' seaborn matplotlib pandas[excel]"
   ]
  },
  {
   "cell_type": "code",
   "execution_count": null,
   "id": "907fbf7f-dd1c-4b0a-80d9-3e0195a72453",
   "metadata": {
    "tags": []
   },
   "outputs": [],
   "source": [
    "import warnings\n",
    "from botorch.exceptions import InputDataWarning\n",
    "warnings.filterwarnings('ignore', category = InputDataWarning)\n",
    "warnings.filterwarnings('ignore', message = '.*BayBE.*')\n",
    "\n",
    "import baybe\n",
    "baybe.__version__"
   ]
  },
  {
   "cell_type": "code",
   "execution_count": 2,
   "id": "e330bf48-8266-4a11-9ec7-93fe0fe0f697",
   "metadata": {
    "tags": []
   },
   "outputs": [],
   "source": [
    "import os\n",
    "import pandas as pd\n",
    "import seaborn as sns\n",
    "from matplotlib import pyplot as plt\n",
    "\n",
    "os.environ['BAYBE_CACHE_DIR']='' # turn descriptor caching off\n",
    "from baybe.utils.random import set_random_seed\n",
    "set_random_seed(1337)"
   ]
  },
  {
   "cell_type": "markdown",
   "id": "f9db81d0-c711-46ae-b55e-83bcedb167cc",
   "metadata": {},
   "source": [
    "# Create the Lookup\n",
    "The problem we study here, corresponds to the chemical reaciton yield optimization from [Shields, B.J., Stevens et al. Nature 590, 89–96 (2021)](https://doi.org/10.1038/s41586-021-03213-y).\n",
    "![reaction](https://raw.githubusercontent.com/emdgroup/baybe-ac24-workshop/main/files/reaction.png)\n",
    "\n",
    "The parameters screened are:\n",
    "- Solvent\n",
    "- Base\n",
    "- Ligand\n",
    "- Concentration (of the solvent)\n",
    "- Temperature\n",
    "\n",
    "There is one target that should be maximized:\n",
    "- yield"
   ]
  },
  {
   "cell_type": "code",
   "execution_count": 42,
   "id": "5943f9e7-52e0-4eac-8f72-cae47e2be66e",
   "metadata": {
    "tags": []
   },
   "outputs": [
    {
     "data": {
      "text/html": [
       "<div>\n",
       "<style scoped>\n",
       "    .dataframe tbody tr th:only-of-type {\n",
       "        vertical-align: middle;\n",
       "    }\n",
       "\n",
       "    .dataframe tbody tr th {\n",
       "        vertical-align: top;\n",
       "    }\n",
       "\n",
       "    .dataframe thead th {\n",
       "        text-align: right;\n",
       "    }\n",
       "</style>\n",
       "<table border=\"1\" class=\"dataframe\">\n",
       "  <thead>\n",
       "    <tr style=\"text-align: right;\">\n",
       "      <th></th>\n",
       "      <th>Base_SMILES</th>\n",
       "      <th>Ligand_SMILES</th>\n",
       "      <th>Solvent_SMILES</th>\n",
       "      <th>Concentration</th>\n",
       "      <th>Temp_C</th>\n",
       "      <th>yield</th>\n",
       "      <th>Base</th>\n",
       "      <th>Ligand</th>\n",
       "      <th>Solvent</th>\n",
       "    </tr>\n",
       "    <tr>\n",
       "      <th>entry</th>\n",
       "      <th></th>\n",
       "      <th></th>\n",
       "      <th></th>\n",
       "      <th></th>\n",
       "      <th></th>\n",
       "      <th></th>\n",
       "      <th></th>\n",
       "      <th></th>\n",
       "      <th></th>\n",
       "    </tr>\n",
       "  </thead>\n",
       "  <tbody>\n",
       "    <tr>\n",
       "      <th>0</th>\n",
       "      <td>O=C([O-])C.[K+]</td>\n",
       "      <td>CC(C)C1=CC(C(C)C)=C(C(C(C)C)=C1)C2=C(P(C3CCCCC...</td>\n",
       "      <td>CC(N(C)C)=O</td>\n",
       "      <td>0.1</td>\n",
       "      <td>105</td>\n",
       "      <td>5.47</td>\n",
       "      <td>Potassium acetate</td>\n",
       "      <td>BrettPhos</td>\n",
       "      <td>DMAc</td>\n",
       "    </tr>\n",
       "    <tr>\n",
       "      <th>1</th>\n",
       "      <td>O=C([O-])C.[K+]</td>\n",
       "      <td>CC(C)(C)P(C1=CC=CC=C1)C(C)(C)C</td>\n",
       "      <td>CC(N(C)C)=O</td>\n",
       "      <td>0.1</td>\n",
       "      <td>105</td>\n",
       "      <td>0.00</td>\n",
       "      <td>Potassium acetate</td>\n",
       "      <td>Di-tert-butylphenylphosphine</td>\n",
       "      <td>DMAc</td>\n",
       "    </tr>\n",
       "    <tr>\n",
       "      <th>2</th>\n",
       "      <td>O=C([O-])C.[K+]</td>\n",
       "      <td>CN(C)C1=CC=CC(N(C)C)=C1C2=CC=CC=C2P(C(C)(C)C)C...</td>\n",
       "      <td>CC(N(C)C)=O</td>\n",
       "      <td>0.1</td>\n",
       "      <td>105</td>\n",
       "      <td>78.95</td>\n",
       "      <td>Potassium acetate</td>\n",
       "      <td>(t-Bu)PhCPhos</td>\n",
       "      <td>DMAc</td>\n",
       "    </tr>\n",
       "    <tr>\n",
       "      <th>3</th>\n",
       "      <td>O=C([O-])C.[K+]</td>\n",
       "      <td>P(C1CCCCC1)(C2CCCCC2)C3CCCCC3</td>\n",
       "      <td>CC(N(C)C)=O</td>\n",
       "      <td>0.1</td>\n",
       "      <td>105</td>\n",
       "      <td>7.26</td>\n",
       "      <td>Potassium acetate</td>\n",
       "      <td>Tricyclohexylphosphine</td>\n",
       "      <td>DMAc</td>\n",
       "    </tr>\n",
       "    <tr>\n",
       "      <th>4</th>\n",
       "      <td>O=C([O-])C.[K+]</td>\n",
       "      <td>P(C1=CC=CC=C1)(C2=CC=CC=C2)C3=CC=CC=C3</td>\n",
       "      <td>CC(N(C)C)=O</td>\n",
       "      <td>0.1</td>\n",
       "      <td>105</td>\n",
       "      <td>28.15</td>\n",
       "      <td>Potassium acetate</td>\n",
       "      <td>PPh3</td>\n",
       "      <td>DMAc</td>\n",
       "    </tr>\n",
       "  </tbody>\n",
       "</table>\n",
       "</div>"
      ],
      "text/plain": [
       "           Base_SMILES                                      Ligand_SMILES  \\\n",
       "entry                                                                       \n",
       "0      O=C([O-])C.[K+]  CC(C)C1=CC(C(C)C)=C(C(C(C)C)=C1)C2=C(P(C3CCCCC...   \n",
       "1      O=C([O-])C.[K+]                     CC(C)(C)P(C1=CC=CC=C1)C(C)(C)C   \n",
       "2      O=C([O-])C.[K+]  CN(C)C1=CC=CC(N(C)C)=C1C2=CC=CC=C2P(C(C)(C)C)C...   \n",
       "3      O=C([O-])C.[K+]                      P(C1CCCCC1)(C2CCCCC2)C3CCCCC3   \n",
       "4      O=C([O-])C.[K+]             P(C1=CC=CC=C1)(C2=CC=CC=C2)C3=CC=CC=C3   \n",
       "\n",
       "      Solvent_SMILES  Concentration  Temp_C  yield               Base  \\\n",
       "entry                                                                   \n",
       "0        CC(N(C)C)=O            0.1     105   5.47  Potassium acetate   \n",
       "1        CC(N(C)C)=O            0.1     105   0.00  Potassium acetate   \n",
       "2        CC(N(C)C)=O            0.1     105  78.95  Potassium acetate   \n",
       "3        CC(N(C)C)=O            0.1     105   7.26  Potassium acetate   \n",
       "4        CC(N(C)C)=O            0.1     105  28.15  Potassium acetate   \n",
       "\n",
       "                             Ligand Solvent  \n",
       "entry                                        \n",
       "0                         BrettPhos    DMAc  \n",
       "1      Di-tert-butylphenylphosphine    DMAc  \n",
       "2                     (t-Bu)PhCPhos    DMAc  \n",
       "3            Tricyclohexylphosphine    DMAc  \n",
       "4                              PPh3    DMAc  "
      ]
     },
     "execution_count": 42,
     "metadata": {},
     "output_type": "execute_result"
    }
   ],
   "source": [
    "url = 'https://raw.githubusercontent.com/emdgroup/baybe/main/examples/Backtesting/lookup.xlsx'\n",
    "lookup = pd.read_excel(url, index_col=0)\n",
    "F_BEST = lookup['yield'].max()\n",
    "lookup.head()"
   ]
  },
  {
   "cell_type": "markdown",
   "id": "e8ff6c6e-1bca-4e1e-b7d0-399ad03396e6",
   "metadata": {},
   "source": [
    "### SMILES\n",
    "The structure of the molecules is represented by a SMILES, a text based representation of molecules.\n",
    "In particular for small molecuels it is a convenient way of presenting a molecule in the computer."
   ]
  },
  {
   "cell_type": "code",
   "execution_count": 4,
   "id": "b0926d9b-2d74-44f5-81c6-6286a1a56508",
   "metadata": {
    "tags": []
   },
   "outputs": [
    {
     "data": {
      "image/jpeg": "[encoded data removed]",
      "image/png": "[encoded data removed]",
      "text/plain": [
       "<PIL.PngImagePlugin.PngImageFile image mode=RGB size=300x300>"
      ]
     },
     "execution_count": 4,
     "metadata": {},
     "output_type": "execute_result"
    }
   ],
   "source": [
    "from rdkit import Chem\n",
    "from rdkit.Chem import Draw\n",
    "\n",
    "mol = Chem.MolFromSmiles('P(C1=CC=CC=C1)(C2=CC=CC=C2)C3=CC=CC=C3') #PPh3\n",
    "Draw.MolToImage(mol)"
   ]
  },
  {
   "cell_type": "markdown",
   "id": "8b66c30b-e619-4525-9477-e66fc3918228",
   "metadata": {},
   "source": [
    "### Target Distribution\n",
    "This is a needle-in-a-haystack problem."
   ]
  },
  {
   "cell_type": "code",
   "execution_count": 5,
   "id": "74bd7020-356b-4055-a807-bf3e60c7932a",
   "metadata": {
    "tags": []
   },
   "outputs": [
    {
     "data": {
      "image/png": "[encoded data removed]",
      "text/plain": [
       "<Figure size 640x480 with 1 Axes>"
      ]
     },
     "metadata": {},
     "output_type": "display_data"
    }
   ],
   "source": [
    "sns.histplot(data = lookup, x = 'yield', edgecolor = 'black');\n",
    "plt.title('Reaction Yield Histogram');"
   ]
  },
  {
   "cell_type": "markdown",
   "id": "d7c3c511-e709-40e8-bda9-2bcdf2f7fc24",
   "metadata": {},
   "source": [
    "### Assemble Label-Structure Pairs Needed for the Parameters"
   ]
  },
  {
   "cell_type": "code",
   "execution_count": 6,
   "id": "6476d3b9-7f0a-4330-8a4e-f86a101ccf50",
   "metadata": {
    "tags": []
   },
   "outputs": [
    {
     "data": {
      "text/plain": [
       "{'Butyl Ester': 'CCCCOC(C)=O',\n",
       " 'Butyornitrile': 'CCCC#N',\n",
       " 'DMAc': 'CC(N(C)C)=O',\n",
       " 'p-Xylene': 'CC1=CC=C(C)C=C1'}"
      ]
     },
     "execution_count": 6,
     "metadata": {},
     "output_type": "execute_result"
    }
   ],
   "source": [
    "solvent_data = dict(sorted(set(zip(lookup.Solvent, lookup.Solvent_SMILES))))\n",
    "solvent_data"
   ]
  },
  {
   "cell_type": "code",
   "execution_count": 7,
   "id": "3dd023f4-ff04-4f94-ac6c-5c7ad4cfbfda",
   "metadata": {
    "tags": []
   },
   "outputs": [
    {
     "data": {
      "text/plain": [
       "{'Cesium acetate': 'O=C([O-])C.[Cs+]',\n",
       " 'Cesium pivalate': 'O=C([O-])C(C)(C)C.[Cs+]',\n",
       " 'Potassium acetate': 'O=C([O-])C.[K+]',\n",
       " 'Potassium pivalate': 'O=C([O-])C(C)(C)C.[K+]'}"
      ]
     },
     "execution_count": 7,
     "metadata": {},
     "output_type": "execute_result"
    }
   ],
   "source": [
    "base_data = dict(sorted(set(zip(lookup.Base, lookup.Base_SMILES))))\n",
    "base_data"
   ]
  },
  {
   "cell_type": "code",
   "execution_count": 8,
   "id": "ffa0d324-ef4b-4ac3-bb56-a255d0456037",
   "metadata": {
    "tags": []
   },
   "outputs": [
    {
     "data": {
      "text/plain": [
       "{'(t-Bu)PhCPhos': 'CN(C)C1=CC=CC(N(C)C)=C1C2=CC=CC=C2P(C(C)(C)C)C3=CC=CC=C3',\n",
       " '1268824-69-6': 'CC(OC1=C(P(C2CCCCC2)C3CCCCC3)C(OC(C)C)=CC=C1)C',\n",
       " 'BrettPhos': 'CC(C)C1=CC(C(C)C)=C(C(C(C)C)=C1)C2=C(P(C3CCCCC3)C4CCCCC4)C(OC)=CC=C2OC',\n",
       " 'Di-tert-butylphenylphosphine': 'CC(C)(C)P(C1=CC=CC=C1)C(C)(C)C',\n",
       " 'JackiePhos': 'FC(F)(F)C1=CC(P(C2=C(C3=C(C(C)C)C=C(C(C)C)C=C3C(C)C)C(OC)=CC=C2OC)C4=CC(C(F)(F)F)=CC(C(F)(F)F)=C4)=CC(C(F)(F)F)=C1',\n",
       " 'Me2PPh': 'CP(C)C1=CC=CC=C1',\n",
       " 'Methyldiphenylphosphine': 'CP(C1=CC=CC=C1)C2=CC=CC=C2',\n",
       " 'P(2-furyl)3': 'P(C1=CC=CO1)(C2=CC=CO2)C3=CC=CO3',\n",
       " 'PPh3': 'P(C1=CC=CC=C1)(C2=CC=CC=C2)C3=CC=CC=C3',\n",
       " 'SCHEMBL15068049': 'C[C@]1(O2)O[C@](C[C@]2(C)P3C4=CC=CC=C4)(C)O[C@]3(C)C1',\n",
       " 'Tricyclohexylphosphine': 'P(C1CCCCC1)(C2CCCCC2)C3CCCCC3',\n",
       " 'XPhos': 'CC(C1=C(C2=CC=CC=C2P(C3CCCCC3)C4CCCCC4)C(C(C)C)=CC(C(C)C)=C1)C'}"
      ]
     },
     "execution_count": 8,
     "metadata": {},
     "output_type": "execute_result"
    }
   ],
   "source": [
    "ligand_data = dict(sorted(set(zip( lookup.Ligand, lookup.Ligand_SMILES))))\n",
    "ligand_data"
   ]
  },
  {
   "cell_type": "code",
   "execution_count": 9,
   "id": "83ca5a38-d577-40f5-aab1-e43044ca6be8",
   "metadata": {
    "tags": []
   },
   "outputs": [
    {
     "data": {
      "text/plain": [
       "{90, 105, 120}"
      ]
     },
     "execution_count": 9,
     "metadata": {},
     "output_type": "execute_result"
    }
   ],
   "source": [
    "temperature_values = set(lookup.Temp_C)\n",
    "temperature_values"
   ]
  },
  {
   "cell_type": "code",
   "execution_count": 10,
   "id": "0f8ab10c-780b-4033-acbc-b6763b737b52",
   "metadata": {
    "tags": []
   },
   "outputs": [
    {
     "data": {
      "text/plain": [
       "{0.057, 0.1, 0.153}"
      ]
     },
     "execution_count": 10,
     "metadata": {},
     "output_type": "execute_result"
    }
   ],
   "source": [
    "concentration_values = set(lookup.Concentration)\n",
    "concentration_values"
   ]
  },
  {
   "cell_type": "markdown",
   "id": "c0a248d6-2bab-4df6-a5ee-93adba8a2d7f",
   "metadata": {},
   "source": [
    "# Create Different Parametrizations"
   ]
  },
  {
   "cell_type": "markdown",
   "id": "c4556764-4c8a-447c-a988-7f1b8d21c856",
   "metadata": {},
   "source": [
    "## Set up Parametrization for Solvent, Base, Temp and Concentration\n",
    "\n",
    "For four out of the five parameters we will keep the parameteriyation the same.\n",
    "\n",
    "We will encode the base and solvent with the [`SubstanceParameter`](https://emdgroup.github.io/baybe/userguide/parameters.html#substanceparameter) which requires `data` in the form of the above created dictionary mappings between substance labels and their SMILES.\n",
    "\n",
    "For the temperature and concentration we use the\n",
    "[`NumericalDiscreteParameter`](https://emdgroup.github.io/baybe/userguide/parameters.html#numericaldiscreteparameter), which simply needs a sequence of `values`."
   ]
  },
  {
   "cell_type": "code",
   "execution_count": 29,
   "id": "86acc617-0c0a-4233-a5c9-677300b98227",
   "metadata": {
    "tags": []
   },
   "outputs": [],
   "source": [
    "from baybe.parameters import (SubstanceParameter, \n",
    "                              CustomDiscreteParameter, \n",
    "                              CategoricalParameter, \n",
    "                              NumericalDiscreteParameter)\n",
    "\n",
    "# Substance parameters including chemical descriptors\n",
    "p_solvent = SubstanceParameter(name = \"Solvent\", data = solvent_data)\n",
    "p_base = SubstanceParameter(name = \"Base\", data = base_data)\n",
    "\n",
    "# Discrete numerical parameters\n",
    "p_temp = NumericalDiscreteParameter(name = \"Temp_C\", values = temperature_values)\n",
    "p_concentration = NumericalDiscreteParameter(name = \"Concentration\", values = concentration_values)\n",
    "\n",
    "shared_parameters = [\n",
    "    p_solvent,\n",
    "    p_base, \n",
    "    p_concentration, \n",
    "    p_temp\n",
    "]"
   ]
  },
  {
   "cell_type": "markdown",
   "id": "3e871045-6ee1-4e7e-abed-291b832f7b92",
   "metadata": {
    "tags": []
   },
   "source": [
    "## Create Different Ligand Parameterizations\n",
    "\n",
    "To illustrate the role of featurization for categorical parameters we will create three differen variants for the ligand. In this type of reaction, the ligand is known to play a crucial role."
   ]
  },
  {
   "cell_type": "markdown",
   "id": "28685748-67c9-4e13-a507-cd5e4bddb8de",
   "metadata": {},
   "source": [
    "### MORDRED Encoding\n",
    "\n",
    "[MORDRED](https://github.com/JacksonBurns/mordred-community) and [RDKIT](https://github.com/rdkit/rdkit) are well known cheminformatics packages which allow manipulation of small molecules, but also calculation of descriptors for them. There exist many decades of work and over the years thousands of descriptors have been developed. In general, these descriptors are quickly calculated, but include several approximations to enable this.\n",
    "\n",
    "Since surrogate models generally scale with data dimensionality, it is a bad idea to use all of these descriptors. For this, BayBE provides the `decorrelate` keyword. With this you can specify a threshold of pairwise column correlation above which one of the columns will be dropped.\n",
    "\n",
    "Below we explicitly turn decorrelation off to see the resulting (bad) featurization."
   ]
  },
  {
   "cell_type": "code",
   "execution_count": 30,
   "id": "f03e790a-206b-499b-a378-049b100917b3",
   "metadata": {
    "tags": []
   },
   "outputs": [
    {
     "data": {
      "text/html": [
       "<div>\n",
       "<style scoped>\n",
       "    .dataframe tbody tr th:only-of-type {\n",
       "        vertical-align: middle;\n",
       "    }\n",
       "\n",
       "    .dataframe tbody tr th {\n",
       "        vertical-align: top;\n",
       "    }\n",
       "\n",
       "    .dataframe thead th {\n",
       "        text-align: right;\n",
       "    }\n",
       "</style>\n",
       "<table border=\"1\" class=\"dataframe\">\n",
       "  <thead>\n",
       "    <tr style=\"text-align: right;\">\n",
       "      <th></th>\n",
       "      <th>Ligand_MORDRED_ABC</th>\n",
       "      <th>Ligand_MORDRED_ABCGG</th>\n",
       "      <th>...</th>\n",
       "      <th>Ligand_MORDRED_mZagreb1</th>\n",
       "      <th>Ligand_MORDRED_mZagreb2</th>\n",
       "    </tr>\n",
       "  </thead>\n",
       "  <tbody>\n",
       "    <tr>\n",
       "      <th>(t-Bu)PhCPhos</th>\n",
       "      <td>22.449495</td>\n",
       "      <td>19.292201</td>\n",
       "      <td>...</td>\n",
       "      <td>11.062500</td>\n",
       "      <td>6.305556</td>\n",
       "    </tr>\n",
       "    <tr>\n",
       "      <th>1268824-69-6</th>\n",
       "      <td>20.741455</td>\n",
       "      <td>17.344789</td>\n",
       "      <td>...</td>\n",
       "      <td>8.638889</td>\n",
       "      <td>6.055556</td>\n",
       "    </tr>\n",
       "    <tr>\n",
       "      <th>BrettPhos</th>\n",
       "      <td>29.162435</td>\n",
       "      <td>24.462781</td>\n",
       "      <td>...</td>\n",
       "      <td>13.555556</td>\n",
       "      <td>8.583333</td>\n",
       "    </tr>\n",
       "    <tr>\n",
       "      <th>Di-tert-butylphenylphosphine</th>\n",
       "      <td>11.396454</td>\n",
       "      <td>10.965064</td>\n",
       "      <td>...</td>\n",
       "      <td>7.597222</td>\n",
       "      <td>3.111111</td>\n",
       "    </tr>\n",
       "    <tr>\n",
       "      <th>JackiePhos</th>\n",
       "      <td>42.136729</td>\n",
       "      <td>35.374348</td>\n",
       "      <td>...</td>\n",
       "      <td>25.250000</td>\n",
       "      <td>11.250000</td>\n",
       "    </tr>\n",
       "  </tbody>\n",
       "</table>\n",
       "<p>5 rows × 1107 columns</p>\n",
       "</div>"
      ],
      "text/plain": [
       "                              Ligand_MORDRED_ABC  Ligand_MORDRED_ABCGG  ...  \\\n",
       "(t-Bu)PhCPhos                          22.449495             19.292201  ...   \n",
       "1268824-69-6                           20.741455             17.344789  ...   \n",
       "BrettPhos                              29.162435             24.462781  ...   \n",
       "Di-tert-butylphenylphosphine           11.396454             10.965064  ...   \n",
       "JackiePhos                             42.136729             35.374348  ...   \n",
       "\n",
       "                              Ligand_MORDRED_mZagreb1  Ligand_MORDRED_mZagreb2  \n",
       "(t-Bu)PhCPhos                               11.062500                 6.305556  \n",
       "1268824-69-6                                 8.638889                 6.055556  \n",
       "BrettPhos                                   13.555556                 8.583333  \n",
       "Di-tert-butylphenylphosphine                 7.597222                 3.111111  \n",
       "JackiePhos                                  25.250000                11.250000  \n",
       "\n",
       "[5 rows x 1107 columns]"
      ]
     },
     "metadata": {},
     "output_type": "display_data"
    }
   ],
   "source": [
    "p_ligand_mordred_bad = SubstanceParameter(name = \"Ligand\",\n",
    "                                          data = ligand_data,\n",
    "                                          encoding = 'MORDRED', # MORDRED or RDKIT or MORGAN_FP\n",
    "                                          decorrelate = False) # Max allowed pairwise column correlation\n",
    "\n",
    "# The comp_df property of the parameter contains the descriptors as data frame.\n",
    "# This is essentially a tabular mapping from labels (indices) to numbers (columns).\n",
    "with pd.option_context('display.max_columns', 5):\n",
    "    display(p_ligand_mordred_bad.comp_df.head())"
   ]
  },
  {
   "cell_type": "markdown",
   "id": "7e1119a9-e4ae-4f2a-b023-c472f629e906",
   "metadata": {},
   "source": [
    "Now we set the decorrelation to its default value and observe a dramatic reduction in descriptors necessary."
   ]
  },
  {
   "cell_type": "code",
   "execution_count": 31,
   "id": "fb0de00f-a210-4587-b6cd-a0ef07beb50a",
   "metadata": {
    "tags": []
   },
   "outputs": [
    {
     "data": {
      "text/html": [
       "<div>\n",
       "<style scoped>\n",
       "    .dataframe tbody tr th:only-of-type {\n",
       "        vertical-align: middle;\n",
       "    }\n",
       "\n",
       "    .dataframe tbody tr th {\n",
       "        vertical-align: top;\n",
       "    }\n",
       "\n",
       "    .dataframe thead th {\n",
       "        text-align: right;\n",
       "    }\n",
       "</style>\n",
       "<table border=\"1\" class=\"dataframe\">\n",
       "  <thead>\n",
       "    <tr style=\"text-align: right;\">\n",
       "      <th></th>\n",
       "      <th>Ligand_MORDRED_ABC</th>\n",
       "      <th>Ligand_MORDRED_SpMax_A</th>\n",
       "      <th>...</th>\n",
       "      <th>Ligand_MORDRED_JGI7</th>\n",
       "      <th>Ligand_MORDRED_TopoShapeIndex</th>\n",
       "    </tr>\n",
       "  </thead>\n",
       "  <tbody>\n",
       "    <tr>\n",
       "      <th>(t-Bu)PhCPhos</th>\n",
       "      <td>22.449495</td>\n",
       "      <td>2.507279</td>\n",
       "      <td>...</td>\n",
       "      <td>0.020557</td>\n",
       "      <td>1.000000</td>\n",
       "    </tr>\n",
       "    <tr>\n",
       "      <th>1268824-69-6</th>\n",
       "      <td>20.741455</td>\n",
       "      <td>2.468664</td>\n",
       "      <td>...</td>\n",
       "      <td>0.015783</td>\n",
       "      <td>0.800000</td>\n",
       "    </tr>\n",
       "    <tr>\n",
       "      <th>BrettPhos</th>\n",
       "      <td>29.162435</td>\n",
       "      <td>2.555080</td>\n",
       "      <td>...</td>\n",
       "      <td>0.014660</td>\n",
       "      <td>1.000000</td>\n",
       "    </tr>\n",
       "    <tr>\n",
       "      <th>Di-tert-butylphenylphosphine</th>\n",
       "      <td>11.396454</td>\n",
       "      <td>2.429653</td>\n",
       "      <td>...</td>\n",
       "      <td>0.000000</td>\n",
       "      <td>1.000000</td>\n",
       "    </tr>\n",
       "    <tr>\n",
       "      <th>JackiePhos</th>\n",
       "      <td>42.136729</td>\n",
       "      <td>2.572820</td>\n",
       "      <td>...</td>\n",
       "      <td>0.017747</td>\n",
       "      <td>0.857143</td>\n",
       "    </tr>\n",
       "  </tbody>\n",
       "</table>\n",
       "<p>5 rows × 48 columns</p>\n",
       "</div>"
      ],
      "text/plain": [
       "                              Ligand_MORDRED_ABC  Ligand_MORDRED_SpMax_A  ...  \\\n",
       "(t-Bu)PhCPhos                          22.449495                2.507279  ...   \n",
       "1268824-69-6                           20.741455                2.468664  ...   \n",
       "BrettPhos                              29.162435                2.555080  ...   \n",
       "Di-tert-butylphenylphosphine           11.396454                2.429653  ...   \n",
       "JackiePhos                             42.136729                2.572820  ...   \n",
       "\n",
       "                              Ligand_MORDRED_JGI7  \\\n",
       "(t-Bu)PhCPhos                            0.020557   \n",
       "1268824-69-6                             0.015783   \n",
       "BrettPhos                                0.014660   \n",
       "Di-tert-butylphenylphosphine             0.000000   \n",
       "JackiePhos                               0.017747   \n",
       "\n",
       "                              Ligand_MORDRED_TopoShapeIndex  \n",
       "(t-Bu)PhCPhos                                      1.000000  \n",
       "1268824-69-6                                       0.800000  \n",
       "BrettPhos                                          1.000000  \n",
       "Di-tert-butylphenylphosphine                       1.000000  \n",
       "JackiePhos                                         0.857143  \n",
       "\n",
       "[5 rows x 48 columns]"
      ]
     },
     "metadata": {},
     "output_type": "display_data"
    }
   ],
   "source": [
    "p_ligand_mordred = SubstanceParameter(name = \"Ligand\",\n",
    "                                      data = ligand_data,\n",
    "                                      encoding = 'MORDRED', # MORDRED or RDKIT or MORGAN_FP\n",
    "                                      decorrelate = 0.7) # This is the default\n",
    "\n",
    "with pd.option_context('display.max_columns', 5):\n",
    "    display(p_ligand_mordred.comp_df.head())"
   ]
  },
  {
   "cell_type": "markdown",
   "id": "7357918a-1856-40b7-bdc3-e7abfe515a95",
   "metadata": {},
   "source": [
    "### Ohe-Hot Encoding\n",
    "\n",
    "For this we can use a traditional [`CategoricalParameter`](https://emdgroup.github.io/baybe/userguide/parameters.html#categoricalparameter)."
   ]
  },
  {
   "cell_type": "code",
   "execution_count": 32,
   "id": "bea5159d-5876-4dde-89c7-0303ae08357e",
   "metadata": {
    "tags": []
   },
   "outputs": [
    {
     "data": {
      "text/html": [
       "<div>\n",
       "<style scoped>\n",
       "    .dataframe tbody tr th:only-of-type {\n",
       "        vertical-align: middle;\n",
       "    }\n",
       "\n",
       "    .dataframe tbody tr th {\n",
       "        vertical-align: top;\n",
       "    }\n",
       "\n",
       "    .dataframe thead th {\n",
       "        text-align: right;\n",
       "    }\n",
       "</style>\n",
       "<table border=\"1\" class=\"dataframe\">\n",
       "  <thead>\n",
       "    <tr style=\"text-align: right;\">\n",
       "      <th></th>\n",
       "      <th>Ligand_(t-Bu)PhCPhos</th>\n",
       "      <th>Ligand_1268824-69-6</th>\n",
       "      <th>...</th>\n",
       "      <th>Ligand_Tricyclohexylphosphine</th>\n",
       "      <th>Ligand_XPhos</th>\n",
       "    </tr>\n",
       "  </thead>\n",
       "  <tbody>\n",
       "    <tr>\n",
       "      <th>(t-Bu)PhCPhos</th>\n",
       "      <td>1.0</td>\n",
       "      <td>0.0</td>\n",
       "      <td>...</td>\n",
       "      <td>0.0</td>\n",
       "      <td>0.0</td>\n",
       "    </tr>\n",
       "    <tr>\n",
       "      <th>1268824-69-6</th>\n",
       "      <td>0.0</td>\n",
       "      <td>1.0</td>\n",
       "      <td>...</td>\n",
       "      <td>0.0</td>\n",
       "      <td>0.0</td>\n",
       "    </tr>\n",
       "    <tr>\n",
       "      <th>BrettPhos</th>\n",
       "      <td>0.0</td>\n",
       "      <td>0.0</td>\n",
       "      <td>...</td>\n",
       "      <td>0.0</td>\n",
       "      <td>0.0</td>\n",
       "    </tr>\n",
       "    <tr>\n",
       "      <th>Di-tert-butylphenylphosphine</th>\n",
       "      <td>0.0</td>\n",
       "      <td>0.0</td>\n",
       "      <td>...</td>\n",
       "      <td>0.0</td>\n",
       "      <td>0.0</td>\n",
       "    </tr>\n",
       "    <tr>\n",
       "      <th>JackiePhos</th>\n",
       "      <td>0.0</td>\n",
       "      <td>0.0</td>\n",
       "      <td>...</td>\n",
       "      <td>0.0</td>\n",
       "      <td>0.0</td>\n",
       "    </tr>\n",
       "  </tbody>\n",
       "</table>\n",
       "<p>5 rows × 12 columns</p>\n",
       "</div>"
      ],
      "text/plain": [
       "                              Ligand_(t-Bu)PhCPhos  Ligand_1268824-69-6  ...  \\\n",
       "(t-Bu)PhCPhos                                  1.0                  0.0  ...   \n",
       "1268824-69-6                                   0.0                  1.0  ...   \n",
       "BrettPhos                                      0.0                  0.0  ...   \n",
       "Di-tert-butylphenylphosphine                   0.0                  0.0  ...   \n",
       "JackiePhos                                     0.0                  0.0  ...   \n",
       "\n",
       "                              Ligand_Tricyclohexylphosphine  Ligand_XPhos  \n",
       "(t-Bu)PhCPhos                                           0.0           0.0  \n",
       "1268824-69-6                                            0.0           0.0  \n",
       "BrettPhos                                               0.0           0.0  \n",
       "Di-tert-butylphenylphosphine                            0.0           0.0  \n",
       "JackiePhos                                              0.0           0.0  \n",
       "\n",
       "[5 rows x 12 columns]"
      ]
     },
     "metadata": {},
     "output_type": "display_data"
    }
   ],
   "source": [
    "p_ligand_ohe = CategoricalParameter(name = \"Ligand\",\n",
    "                                    values = ligand_data.keys(),\n",
    "                                    encoding = 'OHE') # INT or OHE\n",
    "\n",
    "with pd.option_context('display.max_columns', 5):\n",
    "    display(p_ligand_ohe.comp_df.head())"
   ]
  },
  {
   "cell_type": "markdown",
   "id": "804f93cc-0c7e-4af6-9014-46310c82cb0a",
   "metadata": {},
   "source": [
    "### CUSTOM encoding\n",
    "\n",
    "BayBE also has the [`CustomDiscreteParameter`](https://emdgroup.github.io/baybe/userguide/parameters.html#customdiscreteparameter) which takes your very own descriptor mapping as data frame as `data`.\n",
    "\n",
    "To illsutrate its usage we create a PCA-based reduction based on the large MORDRED descriptor map caluclated previously."
   ]
  },
  {
   "cell_type": "code",
   "execution_count": 33,
   "id": "38e1dc95-bf8d-489c-802e-901c85c1de28",
   "metadata": {
    "tags": []
   },
   "outputs": [
    {
     "data": {
      "text/html": [
       "<div>\n",
       "<style scoped>\n",
       "    .dataframe tbody tr th:only-of-type {\n",
       "        vertical-align: middle;\n",
       "    }\n",
       "\n",
       "    .dataframe tbody tr th {\n",
       "        vertical-align: top;\n",
       "    }\n",
       "\n",
       "    .dataframe thead th {\n",
       "        text-align: right;\n",
       "    }\n",
       "</style>\n",
       "<table border=\"1\" class=\"dataframe\">\n",
       "  <thead>\n",
       "    <tr style=\"text-align: right;\">\n",
       "      <th></th>\n",
       "      <th>0</th>\n",
       "      <th>1</th>\n",
       "      <th>2</th>\n",
       "      <th>3</th>\n",
       "      <th>4</th>\n",
       "      <th>5</th>\n",
       "      <th>6</th>\n",
       "      <th>7</th>\n",
       "      <th>8</th>\n",
       "      <th>9</th>\n",
       "      <th>10</th>\n",
       "      <th>11</th>\n",
       "    </tr>\n",
       "  </thead>\n",
       "  <tbody>\n",
       "    <tr>\n",
       "      <th>(t-Bu)PhCPhos</th>\n",
       "      <td>8.435875</td>\n",
       "      <td>-3.408601</td>\n",
       "      <td>0.113716</td>\n",
       "      <td>5.114928</td>\n",
       "      <td>-15.921587</td>\n",
       "      <td>7.060074</td>\n",
       "      <td>1.650195</td>\n",
       "      <td>5.221354</td>\n",
       "      <td>6.385881</td>\n",
       "      <td>0.082431</td>\n",
       "      <td>-0.184933</td>\n",
       "      <td>-8.141916e-15</td>\n",
       "    </tr>\n",
       "    <tr>\n",
       "      <th>1268824-69-6</th>\n",
       "      <td>6.755321</td>\n",
       "      <td>-12.111389</td>\n",
       "      <td>-2.594902</td>\n",
       "      <td>6.280692</td>\n",
       "      <td>5.512184</td>\n",
       "      <td>0.937279</td>\n",
       "      <td>5.448890</td>\n",
       "      <td>-8.351234</td>\n",
       "      <td>4.511744</td>\n",
       "      <td>-3.311887</td>\n",
       "      <td>-0.995624</td>\n",
       "      <td>-8.141916e-15</td>\n",
       "    </tr>\n",
       "    <tr>\n",
       "      <th>BrettPhos</th>\n",
       "      <td>24.538098</td>\n",
       "      <td>-17.319861</td>\n",
       "      <td>-3.928779</td>\n",
       "      <td>2.821141</td>\n",
       "      <td>1.053323</td>\n",
       "      <td>5.245916</td>\n",
       "      <td>4.073336</td>\n",
       "      <td>-2.586212</td>\n",
       "      <td>-3.568789</td>\n",
       "      <td>4.924581</td>\n",
       "      <td>1.462626</td>\n",
       "      <td>-8.141916e-15</td>\n",
       "    </tr>\n",
       "    <tr>\n",
       "      <th>Di-tert-butylphenylphosphine</th>\n",
       "      <td>-18.056464</td>\n",
       "      <td>-0.054137</td>\n",
       "      <td>20.290740</td>\n",
       "      <td>-0.085171</td>\n",
       "      <td>-11.794890</td>\n",
       "      <td>-10.692620</td>\n",
       "      <td>2.950254</td>\n",
       "      <td>-3.649690</td>\n",
       "      <td>-3.127553</td>\n",
       "      <td>0.384644</td>\n",
       "      <td>-0.364512</td>\n",
       "      <td>-8.141916e-15</td>\n",
       "    </tr>\n",
       "    <tr>\n",
       "      <th>JackiePhos</th>\n",
       "      <td>56.639889</td>\n",
       "      <td>21.698687</td>\n",
       "      <td>3.587066</td>\n",
       "      <td>-13.057508</td>\n",
       "      <td>2.007929</td>\n",
       "      <td>-4.200061</td>\n",
       "      <td>-0.852781</td>\n",
       "      <td>-0.312617</td>\n",
       "      <td>1.061784</td>\n",
       "      <td>-0.151094</td>\n",
       "      <td>-0.100496</td>\n",
       "      <td>-8.141916e-15</td>\n",
       "    </tr>\n",
       "  </tbody>\n",
       "</table>\n",
       "</div>"
      ],
      "text/plain": [
       "                                     0          1          2          3   \\\n",
       "(t-Bu)PhCPhos                  8.435875  -3.408601   0.113716   5.114928   \n",
       "1268824-69-6                   6.755321 -12.111389  -2.594902   6.280692   \n",
       "BrettPhos                     24.538098 -17.319861  -3.928779   2.821141   \n",
       "Di-tert-butylphenylphosphine -18.056464  -0.054137  20.290740  -0.085171   \n",
       "JackiePhos                    56.639889  21.698687   3.587066 -13.057508   \n",
       "\n",
       "                                     4          5         6         7   \\\n",
       "(t-Bu)PhCPhos                -15.921587   7.060074  1.650195  5.221354   \n",
       "1268824-69-6                   5.512184   0.937279  5.448890 -8.351234   \n",
       "BrettPhos                      1.053323   5.245916  4.073336 -2.586212   \n",
       "Di-tert-butylphenylphosphine -11.794890 -10.692620  2.950254 -3.649690   \n",
       "JackiePhos                     2.007929  -4.200061 -0.852781 -0.312617   \n",
       "\n",
       "                                    8         9         10            11  \n",
       "(t-Bu)PhCPhos                 6.385881  0.082431 -0.184933 -8.141916e-15  \n",
       "1268824-69-6                  4.511744 -3.311887 -0.995624 -8.141916e-15  \n",
       "BrettPhos                    -3.568789  4.924581  1.462626 -8.141916e-15  \n",
       "Di-tert-butylphenylphosphine -3.127553  0.384644 -0.364512 -8.141916e-15  \n",
       "JackiePhos                    1.061784 -0.151094 -0.100496 -8.141916e-15  "
      ]
     },
     "execution_count": 33,
     "metadata": {},
     "output_type": "execute_result"
    }
   ],
   "source": [
    "from sklearn.decomposition import PCA\n",
    "from sklearn.preprocessing import StandardScaler\n",
    "\n",
    "# Consider the large table of MORDRED features\n",
    "features_mordred = p_ligand_mordred_bad.comp_df.values\n",
    "\n",
    "# Create a table of PC's from these features\n",
    "pca = PCA(n_components = 12)\n",
    "features_pca = pca.fit_transform(StandardScaler().fit_transform(features_mordred))\n",
    "custom_features = pd.DataFrame(features_pca,\n",
    "                               index = p_ligand_mordred.comp_df.index)\n",
    "custom_features.head()"
   ]
  },
  {
   "cell_type": "code",
   "execution_count": 34,
   "id": "21ccebc1",
   "metadata": {
    "tags": []
   },
   "outputs": [
    {
     "data": {
      "text/html": [
       "<div>\n",
       "<style scoped>\n",
       "    .dataframe tbody tr th:only-of-type {\n",
       "        vertical-align: middle;\n",
       "    }\n",
       "\n",
       "    .dataframe tbody tr th {\n",
       "        vertical-align: top;\n",
       "    }\n",
       "\n",
       "    .dataframe thead th {\n",
       "        text-align: right;\n",
       "    }\n",
       "</style>\n",
       "<table border=\"1\" class=\"dataframe\">\n",
       "  <thead>\n",
       "    <tr style=\"text-align: right;\">\n",
       "      <th></th>\n",
       "      <th>Ligand_0</th>\n",
       "      <th>Ligand_1</th>\n",
       "      <th>Ligand_2</th>\n",
       "      <th>Ligand_3</th>\n",
       "      <th>Ligand_4</th>\n",
       "      <th>Ligand_5</th>\n",
       "      <th>Ligand_6</th>\n",
       "      <th>Ligand_7</th>\n",
       "      <th>Ligand_8</th>\n",
       "      <th>Ligand_9</th>\n",
       "      <th>Ligand_10</th>\n",
       "    </tr>\n",
       "  </thead>\n",
       "  <tbody>\n",
       "    <tr>\n",
       "      <th>(t-Bu)PhCPhos</th>\n",
       "      <td>8.435875</td>\n",
       "      <td>-3.408601</td>\n",
       "      <td>0.113716</td>\n",
       "      <td>5.114928</td>\n",
       "      <td>-15.921587</td>\n",
       "      <td>7.060074</td>\n",
       "      <td>1.650195</td>\n",
       "      <td>5.221354</td>\n",
       "      <td>6.385881</td>\n",
       "      <td>0.082431</td>\n",
       "      <td>-0.184933</td>\n",
       "    </tr>\n",
       "    <tr>\n",
       "      <th>1268824-69-6</th>\n",
       "      <td>6.755321</td>\n",
       "      <td>-12.111389</td>\n",
       "      <td>-2.594902</td>\n",
       "      <td>6.280692</td>\n",
       "      <td>5.512184</td>\n",
       "      <td>0.937279</td>\n",
       "      <td>5.448890</td>\n",
       "      <td>-8.351234</td>\n",
       "      <td>4.511744</td>\n",
       "      <td>-3.311887</td>\n",
       "      <td>-0.995624</td>\n",
       "    </tr>\n",
       "    <tr>\n",
       "      <th>BrettPhos</th>\n",
       "      <td>24.538098</td>\n",
       "      <td>-17.319861</td>\n",
       "      <td>-3.928779</td>\n",
       "      <td>2.821141</td>\n",
       "      <td>1.053323</td>\n",
       "      <td>5.245916</td>\n",
       "      <td>4.073336</td>\n",
       "      <td>-2.586212</td>\n",
       "      <td>-3.568789</td>\n",
       "      <td>4.924581</td>\n",
       "      <td>1.462626</td>\n",
       "    </tr>\n",
       "    <tr>\n",
       "      <th>Di-tert-butylphenylphosphine</th>\n",
       "      <td>-18.056464</td>\n",
       "      <td>-0.054137</td>\n",
       "      <td>20.290740</td>\n",
       "      <td>-0.085171</td>\n",
       "      <td>-11.794890</td>\n",
       "      <td>-10.692620</td>\n",
       "      <td>2.950254</td>\n",
       "      <td>-3.649690</td>\n",
       "      <td>-3.127553</td>\n",
       "      <td>0.384644</td>\n",
       "      <td>-0.364512</td>\n",
       "    </tr>\n",
       "    <tr>\n",
       "      <th>JackiePhos</th>\n",
       "      <td>56.639889</td>\n",
       "      <td>21.698687</td>\n",
       "      <td>3.587066</td>\n",
       "      <td>-13.057508</td>\n",
       "      <td>2.007929</td>\n",
       "      <td>-4.200061</td>\n",
       "      <td>-0.852781</td>\n",
       "      <td>-0.312617</td>\n",
       "      <td>1.061784</td>\n",
       "      <td>-0.151094</td>\n",
       "      <td>-0.100496</td>\n",
       "    </tr>\n",
       "  </tbody>\n",
       "</table>\n",
       "</div>"
      ],
      "text/plain": [
       "                               Ligand_0   Ligand_1   Ligand_2   Ligand_3  \\\n",
       "(t-Bu)PhCPhos                  8.435875  -3.408601   0.113716   5.114928   \n",
       "1268824-69-6                   6.755321 -12.111389  -2.594902   6.280692   \n",
       "BrettPhos                     24.538098 -17.319861  -3.928779   2.821141   \n",
       "Di-tert-butylphenylphosphine -18.056464  -0.054137  20.290740  -0.085171   \n",
       "JackiePhos                    56.639889  21.698687   3.587066 -13.057508   \n",
       "\n",
       "                               Ligand_4   Ligand_5  Ligand_6  Ligand_7  \\\n",
       "(t-Bu)PhCPhos                -15.921587   7.060074  1.650195  5.221354   \n",
       "1268824-69-6                   5.512184   0.937279  5.448890 -8.351234   \n",
       "BrettPhos                      1.053323   5.245916  4.073336 -2.586212   \n",
       "Di-tert-butylphenylphosphine -11.794890 -10.692620  2.950254 -3.649690   \n",
       "JackiePhos                     2.007929  -4.200061 -0.852781 -0.312617   \n",
       "\n",
       "                              Ligand_8  Ligand_9  Ligand_10  \n",
       "(t-Bu)PhCPhos                 6.385881  0.082431  -0.184933  \n",
       "1268824-69-6                  4.511744 -3.311887  -0.995624  \n",
       "BrettPhos                    -3.568789  4.924581   1.462626  \n",
       "Di-tert-butylphenylphosphine -3.127553  0.384644  -0.364512  \n",
       "JackiePhos                    1.061784 -0.151094  -0.100496  "
      ]
     },
     "execution_count": 34,
     "metadata": {},
     "output_type": "execute_result"
    }
   ],
   "source": [
    "p_ligand_custom = CustomDiscreteParameter(name = \"Ligand\",\n",
    "                                          data = custom_features)\n",
    "p_ligand_custom.comp_df.head()"
   ]
  },
  {
   "cell_type": "markdown",
   "id": "910c8df9-f093-4efb-82a4-26661248076c",
   "metadata": {
    "tags": []
   },
   "source": [
    "# Create the Scenarios"
   ]
  },
  {
   "cell_type": "code",
   "execution_count": 35,
   "id": "657ea218-bdd3-4089-98f5-025999c6e173",
   "metadata": {
    "tags": []
   },
   "outputs": [],
   "source": [
    "from baybe.objectives import SingleTargetObjective\n",
    "from baybe.targets import NumericalTarget\n",
    "\n",
    "yield_target = NumericalTarget(name = 'yield', mode = 'MAX')\n",
    "objective = SingleTargetObjective(target = yield_target)"
   ]
  },
  {
   "cell_type": "code",
   "execution_count": 36,
   "id": "e1632776-e6e0-449e-9718-57fb252c15bc",
   "metadata": {
    "tags": []
   },
   "outputs": [],
   "source": [
    "from baybe.searchspace import SearchSpace\n",
    "\n",
    "searchspace_mordred = SearchSpace.from_product(parameters=[*shared_parameters, p_ligand_mordred])\n",
    "searchspace_ohe = SearchSpace.from_product(parameters=[*shared_parameters, p_ligand_ohe])\n",
    "searchspace_custom = SearchSpace.from_product(parameters=[*shared_parameters, p_ligand_custom])"
   ]
  },
  {
   "cell_type": "markdown",
   "id": "38d5fa89-1e2b-438f-aac6-27c10a68f189",
   "metadata": {
    "tags": []
   },
   "source": [
    "We will create one scenario for each of the ligand descriptors created before plus an additional random baseline campaign."
   ]
  },
  {
   "cell_type": "code",
   "execution_count": 39,
   "id": "2f958eaf-37fd-4946-a0aa-91aacfc5a029",
   "metadata": {
    "tags": []
   },
   "outputs": [],
   "source": [
    "from baybe.campaign import Campaign\n",
    "from baybe.recommenders import RandomRecommender\n",
    "\n",
    "# All campaigns share the same objective.\n",
    "# All campaigns except the random baseline use the default recommender.\n",
    "scenarios = {\n",
    "    'MORDRED': Campaign(objective = objective,\n",
    "                        searchspace = searchspace_mordred),\n",
    "    'OHE': Campaign(objective = objective,\n",
    "                    searchspace = searchspace_ohe),\n",
    "    'MORDRED+PCA': Campaign(objective = objective,\n",
    "                            searchspace = searchspace_custom),\n",
    "    'Random': Campaign(objective = objective,\n",
    "                       searchspace = searchspace_mordred,\n",
    "                       recommender = RandomRecommender())\n",
    "}"
   ]
  },
  {
   "cell_type": "markdown",
   "id": "d477eb21-d6d0-4719-85ae-303e88920c64",
   "metadata": {},
   "source": [
    "# Perform the Backtest Simulations"
   ]
  },
  {
   "cell_type": "code",
   "execution_count": 20,
   "id": "840da1bb-d067-4b63-9c03-001826e08949",
   "metadata": {
    "tags": []
   },
   "outputs": [
    {
     "name": "stderr",
     "output_type": "stream",
     "text": [
      "I0000 00:00:1722731537.691507   90153 work_stealing_thread_pool.cc:320] WorkStealingThreadPoolImpl::PrepareFork\n",
      "100%|###########################################################################################################################################################################| 200/200 [04:34<00:00,  1.37s/it]\n"
     ]
    },
    {
     "data": {
      "text/html": [
       "<div>\n",
       "<style scoped>\n",
       "    .dataframe tbody tr th:only-of-type {\n",
       "        vertical-align: middle;\n",
       "    }\n",
       "\n",
       "    .dataframe tbody tr th {\n",
       "        vertical-align: top;\n",
       "    }\n",
       "\n",
       "    .dataframe thead th {\n",
       "        text-align: right;\n",
       "    }\n",
       "</style>\n",
       "<table border=\"1\" class=\"dataframe\">\n",
       "  <thead>\n",
       "    <tr style=\"text-align: right;\">\n",
       "      <th></th>\n",
       "      <th>Ligand Encoding</th>\n",
       "      <th>Monte_Carlo_Run</th>\n",
       "      <th>Iteration</th>\n",
       "      <th>Num_Experiments</th>\n",
       "      <th>yield_Measurements</th>\n",
       "      <th>yield_IterBest</th>\n",
       "      <th>yield_CumBest</th>\n",
       "    </tr>\n",
       "  </thead>\n",
       "  <tbody>\n",
       "    <tr>\n",
       "      <th>0</th>\n",
       "      <td>MORDRED</td>\n",
       "      <td>0</td>\n",
       "      <td>0</td>\n",
       "      <td>2</td>\n",
       "      <td>[0.0, 13.12]</td>\n",
       "      <td>13.12</td>\n",
       "      <td>13.12</td>\n",
       "    </tr>\n",
       "    <tr>\n",
       "      <th>1</th>\n",
       "      <td>MORDRED</td>\n",
       "      <td>0</td>\n",
       "      <td>1</td>\n",
       "      <td>4</td>\n",
       "      <td>[15.92, 6.48]</td>\n",
       "      <td>15.92</td>\n",
       "      <td>15.92</td>\n",
       "    </tr>\n",
       "    <tr>\n",
       "      <th>2</th>\n",
       "      <td>MORDRED</td>\n",
       "      <td>0</td>\n",
       "      <td>2</td>\n",
       "      <td>6</td>\n",
       "      <td>[25.45, 37.3]</td>\n",
       "      <td>37.30</td>\n",
       "      <td>37.30</td>\n",
       "    </tr>\n",
       "    <tr>\n",
       "      <th>3</th>\n",
       "      <td>MORDRED</td>\n",
       "      <td>0</td>\n",
       "      <td>3</td>\n",
       "      <td>8</td>\n",
       "      <td>[9.88, 52.2]</td>\n",
       "      <td>52.20</td>\n",
       "      <td>52.20</td>\n",
       "    </tr>\n",
       "    <tr>\n",
       "      <th>4</th>\n",
       "      <td>MORDRED</td>\n",
       "      <td>0</td>\n",
       "      <td>4</td>\n",
       "      <td>10</td>\n",
       "      <td>[44.4, 0.85]</td>\n",
       "      <td>44.40</td>\n",
       "      <td>52.20</td>\n",
       "    </tr>\n",
       "  </tbody>\n",
       "</table>\n",
       "</div>"
      ],
      "text/plain": [
       "  Ligand Encoding  Monte_Carlo_Run  Iteration  Num_Experiments  \\\n",
       "0         MORDRED                0          0                2   \n",
       "1         MORDRED                0          1                4   \n",
       "2         MORDRED                0          2                6   \n",
       "3         MORDRED                0          3                8   \n",
       "4         MORDRED                0          4               10   \n",
       "\n",
       "  yield_Measurements  yield_IterBest  yield_CumBest  \n",
       "0       [0.0, 13.12]           13.12          13.12  \n",
       "1      [15.92, 6.48]           15.92          15.92  \n",
       "2      [25.45, 37.3]           37.30          37.30  \n",
       "3       [9.88, 52.2]           52.20          52.20  \n",
       "4       [44.4, 0.85]           44.40          52.20  "
      ]
     },
     "execution_count": 20,
     "metadata": {},
     "output_type": "execute_result"
    }
   ],
   "source": [
    "from baybe.simulation import simulate_scenarios\n",
    "\n",
    "# Backtest settings\n",
    "MC_RUNS = 50 # this will take fairly long on typical free-of-charge cloud compute\n",
    "DOE_ITERATIONS = 16\n",
    "BATCH_SIZE = 2\n",
    "\n",
    "# Run the utility for backtesting\n",
    "results = simulate_scenarios(\n",
    "    scenarios,\n",
    "    lookup, # the initial dataframe with the experimental results is our lookup\n",
    "    batch_size = BATCH_SIZE,\n",
    "    n_doe_iterations = DOE_ITERATIONS,\n",
    "    n_mc_iterations = MC_RUNS,\n",
    ")\n",
    "results.head()"
   ]
  },
  {
   "cell_type": "markdown",
   "id": "da9c5aa1-23ce-4657-a96c-69af0747e445",
   "metadata": {},
   "source": [
    "# Plot the Results\n",
    "\n",
    "We find a strong influence of the encoding on the overall performance. While the MORDRED encoding (with `decorrelate` set to its default 0.7) performs best, our custom MORDRED+PCA version also does well. The OHE performs worst, almost as bad as random. OHE only becomes better than random towards the late stage of the optimization (not shown here).\n",
    "\n",
    "Keep in mind that there are other factors that could influence the performance, such as the priors, the fitting procedure settings and so on."
   ]
  },
  {
   "cell_type": "code",
   "execution_count": 21,
   "id": "5429e144-f52e-46b9-a6f9-c7483590ebd1",
   "metadata": {
    "tags": []
   },
   "outputs": [
    {
     "data": {
      "image/png": "[encoded data removed]",
      "text/plain": [
       "<Figure size 1100x600 with 1 Axes>"
      ]
     },
     "metadata": {},
     "output_type": "display_data"
    }
   ],
   "source": [
    "PLOTARGS = {\n",
    "    'linestyle': 'solid',\n",
    "    'marker': 'o',\n",
    "    'markersize': 6, \n",
    "    'markeredgecolor': 'none'\n",
    "}\n",
    "FIGSIZE = (11,6)\n",
    "\n",
    "results.rename(columns = {\"Scenario\": \"Ligand Encoding\"}, inplace = True)\n",
    "sns.lineplot(data = results, \n",
    "             x = \"Num_Experiments\", \n",
    "             y = \"yield_CumBest\", \n",
    "             hue = \"Ligand Encoding\",\n",
    "             **PLOTARGS)\n",
    "\n",
    "plt.axhline(y = F_BEST, color = 'red', linestyle = '--', label = 'Best Possible')\n",
    "plt.gcf().set_size_inches(FIGSIZE)\n",
    "plt.gca().set_ylim(plt.gca().get_ylim()[0], F_BEST+5)\n",
    "plt.title('Influence of the Ligand Substance Encoding');"
   ]
  }
 ],
 "metadata": {
  "kernelspec": {
   "display_name": "BayBE-dev",
   "language": "python",
   "name": "baybe-dev"
  },
  "language_info": {
   "codemirror_mode": {
    "name": "ipython",
    "version": 3
   },
   "file_extension": ".py",
   "mimetype": "text/x-python",
   "name": "python",
   "nbconvert_exporter": "python",
   "pygments_lexer": "ipython3",
   "version": "3.12.4"
  }
 },
 "nbformat": 4,
 "nbformat_minor": 5
}
