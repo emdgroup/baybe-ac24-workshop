{
 "cells": [
  {
   "cell_type": "markdown",
   "id": "4c60bc6a-6c1f-46d8-82e9-306ac4986427",
   "metadata": {
    "jp-MarkdownHeadingCollapsed": true,
    "tags": []
   },
   "source": [
    "# Quick Start\n",
    "\n",
    "A simple example how define a BO problem in BayBE and use the simulation utility to create a backtesting plot.\n",
    "\n",
    "Find more information here:\n",
    "- [Simple Campaign Example](https://emdgroup.github.io/baybe/examples/Basics/campaign.html)\n",
    "- [Backtesting Examples](https://emdgroup.github.io/baybe/examples/Backtesting/Backtesting.html)\n",
    "- [BayBE GitHub](https://github.com/emdgroup/baybe)\n",
    "- [BayBE Userguide](https://emdgroup.github.io/baybe/userguide/userguide.html)\n",
    "\n",
    "<a target=\"_blank\" href=\"https://colab.research.google.com/github/emdgroup/baybe-ac24-workshop/blob/main/1_Quick_Start.ipynb\">\n",
    "  <img src=\"https://colab.research.google.com/assets/colab-badge.svg\" alt=\"Open In Colab\"/>\n",
    "</a>\n",
    "<a target=\"_blank\" href=\"https://mybinder.org/v2/gh/emdgroup/baybe-ac24-workshop/HEAD?labpath=1_Quick_Start.ipynb\">\n",
    "  <img src=\"https://mybinder.org/badge_logo.svg\" alt=\"Launch Binder\"/>\n",
    "</a>"
   ]
  },
  {
   "cell_type": "markdown",
   "id": "a2c17e09-b560-40be-a2ce-d54d002e62f8",
   "metadata": {},
   "source": [
    "# Install and Import"
   ]
  },
  {
   "cell_type": "code",
   "execution_count": null,
   "id": "ace464dd-d719-4034-a98d-459046588134",
   "metadata": {
    "tags": []
   },
   "outputs": [],
   "source": [
    "!pip install 'baybe[simulation]==0.10.0' seaborn matplotlib"
   ]
  },
  {
   "cell_type": "code",
   "execution_count": null,
   "id": "af87a160-2ea3-497b-a16f-58dc85cfcb3e",
   "metadata": {
    "tags": []
   },
   "outputs": [],
   "source": [
    "import warnings\n",
    "from botorch.exceptions import InputDataWarning\n",
    "warnings.filterwarnings('ignore', category = InputDataWarning)\n",
    "warnings.filterwarnings('ignore', message = '.*BayBE.*')\n",
    "\n",
    "import baybe\n",
    "baybe.__version__"
   ]
  },
  {
   "cell_type": "code",
   "execution_count": 3,
   "id": "ed625735-ce5b-4347-9bd5-34f98b9525a2",
   "metadata": {
    "tags": []
   },
   "outputs": [],
   "source": [
    "import matplotlib.pyplot as plt\n",
    "import seaborn as sns\n",
    "\n",
    "from baybe.utils.random import set_random_seed\n",
    "set_random_seed(1337)"
   ]
  },
  {
   "cell_type": "markdown",
   "id": "fee64a13-dedf-4a64-b2f7-e4475c847450",
   "metadata": {},
   "source": [
    "# Define the Problem Lookup\n",
    "\n",
    "For utilitzing the simulation utility, a Callable or a pd.DataFrame can be provided.\n",
    "Here, we define a simple analytical callable which mimics a simple process to be optimized."
   ]
  },
  {
   "cell_type": "code",
   "execution_count": 5,
   "id": "a5abd252-0051-4745-9596-01fd935c2137",
   "metadata": {
    "tags": []
   },
   "outputs": [],
   "source": [
    "def simple_function(x1, x2, x3, x4, x5):\n",
    "    \"\"\"This mimics a simple process to be calibrated.\"\"\"\n",
    "    \n",
    "    return (\n",
    "            0.3*(x1 - 1)**2 \n",
    "            + 3.0 * x2 \n",
    "            - 0.4*(x3 + 1)**3 \n",
    "            - 0.8*(x4 + 2)**2 \n",
    "            - 0.6 * (x5 - x1)**2 # simple interaction terms\n",
    "            - 2 * x1 * x3\n",
    "    )\n",
    "\n",
    "F_BEST = 545.89999\n",
    "DIMENSION = 5\n",
    "BOUNDS = (-10, 10)"
   ]
  },
  {
   "cell_type": "markdown",
   "id": "b9a449d1-2101-4a4b-a9bc-65961b012e86",
   "metadata": {},
   "source": [
    "# Setup the Problem Components"
   ]
  },
  {
   "cell_type": "markdown",
   "id": "01cef97f-9b13-4534-bd32-f5405be3bb86",
   "metadata": {},
   "source": [
    "### Search Space"
   ]
  },
  {
   "cell_type": "code",
   "execution_count": 6,
   "id": "4d9c6401-be20-41da-8a2c-2e2bfdb2e081",
   "metadata": {
    "tags": []
   },
   "outputs": [],
   "source": [
    "from baybe.parameters import NumericalContinuousParameter\n",
    "from baybe.searchspace import SearchSpace\n",
    "\n",
    "# 5 identical continuous parameters\n",
    "parameters = [\n",
    "    NumericalContinuousParameter(\n",
    "        name = f\"x_{k+1}\",\n",
    "        bounds = BOUNDS,\n",
    "    )\n",
    "    for k in range(DIMENSION)\n",
    "]\n",
    "\n",
    "# The search space is the product of the parameters\n",
    "searchspace = SearchSpace.from_product(parameters=parameters)"
   ]
  },
  {
   "cell_type": "markdown",
   "id": "d1cccd06-6a73-4169-8f33-87f43cdae7f4",
   "metadata": {},
   "source": [
    "### Objective"
   ]
  },
  {
   "cell_type": "code",
   "execution_count": 7,
   "id": "3f312668-41cc-42ba-b5cc-a175242741a5",
   "metadata": {
    "tags": []
   },
   "outputs": [],
   "source": [
    "from baybe.targets import NumericalTarget\n",
    "from baybe.objectives import SingleTargetObjective\n",
    "\n",
    "# A simple single-target objective\n",
    "objective = SingleTargetObjective(\n",
    "    target = NumericalTarget(\n",
    "        name = \"Target\",\n",
    "        mode = \"MAX\"\n",
    "    )\n",
    ")"
   ]
  },
  {
   "cell_type": "markdown",
   "id": "93fd392a-d5d1-48f7-bad2-8f41102755f0",
   "metadata": {},
   "source": [
    "### Recommender\n",
    "We use the meta-recommender `TwoPhaseMetaRecommender` which has two phases:\n",
    "- For the first query, recommendations will be random\n",
    "- After the first addition of measurements, recommendations will be according to Botorch's optimizer\n",
    "\n",
    "We choose the MC-based LogExpectedImprovement as acquisition funciton (which is also the default).\n",
    "\n",
    "[Read more on recommenders.](https://emdgroup.github.io/baybe/userguide/recommenders.html)"
   ]
  },
  {
   "cell_type": "code",
   "execution_count": 8,
   "id": "69c969ef-d39f-4448-b835-9491e0724601",
   "metadata": {
    "tags": []
   },
   "outputs": [],
   "source": [
    "from baybe.acquisition import qLogExpectedImprovement\n",
    "from baybe.recommenders import (TwoPhaseMetaRecommender,\n",
    "                                RandomRecommender,\n",
    "                                BotorchRecommender)\n",
    "\n",
    "recommender = TwoPhaseMetaRecommender(\n",
    "    initial_recommender = RandomRecommender(),\n",
    "    recommender = BotorchRecommender(acquisition_function = qLogExpectedImprovement()),\n",
    "    switch_after = 1 # default, switches after the frst addition of measurements\n",
    ")"
   ]
  },
  {
   "cell_type": "markdown",
   "id": "5d4a4234-20af-42e2-8168-93032d05edcb",
   "metadata": {},
   "source": [
    "# Define the Campaigns\n",
    "We will benchmark two campaigns via backtesting:\n",
    "- **BO**: Defined according to our configration above\n",
    "- **Random**: Providing random recommendations as baseline"
   ]
  },
  {
   "cell_type": "code",
   "execution_count": 9,
   "id": "c640eeaf-cf99-4011-8197-166c2ccd61ad",
   "metadata": {
    "tags": []
   },
   "outputs": [],
   "source": [
    "from baybe.campaign import Campaign\n",
    "\n",
    "campaign = Campaign(\n",
    "    searchspace = searchspace,\n",
    "    objective = objective,\n",
    "    recommender = recommender\n",
    ")\n",
    "campaign_random = Campaign(\n",
    "    searchspace = searchspace,\n",
    "    objective = objective,\n",
    "    recommender = RandomRecommender() # the recommender is the only difference to the other campaign\n",
    ")"
   ]
  },
  {
   "cell_type": "markdown",
   "id": "8babf9d5-47be-4fd6-bfca-bc2bd5854213",
   "metadata": {
    "tags": []
   },
   "source": [
    "# Run the Simulation"
   ]
  },
  {
   "cell_type": "code",
   "execution_count": 10,
   "id": "dfa43586-65b5-4594-b5d3-3d8720ba5847",
   "metadata": {
    "tags": []
   },
   "outputs": [
    {
     "name": "stderr",
     "output_type": "stream",
     "text": [
      "I0000 00:00:1722726814.751196   23050 work_stealing_thread_pool.cc:320] WorkStealingThreadPoolImpl::PrepareFork\n",
      "100%|#############################################################################################################################################################################| 10/10 [00:18<00:00,  1.87s/it]\n"
     ]
    },
    {
     "data": {
      "text/html": [
       "<div>\n",
       "<style scoped>\n",
       "    .dataframe tbody tr th:only-of-type {\n",
       "        vertical-align: middle;\n",
       "    }\n",
       "\n",
       "    .dataframe tbody tr th {\n",
       "        vertical-align: top;\n",
       "    }\n",
       "\n",
       "    .dataframe thead th {\n",
       "        text-align: right;\n",
       "    }\n",
       "</style>\n",
       "<table border=\"1\" class=\"dataframe\">\n",
       "  <thead>\n",
       "    <tr style=\"text-align: right;\">\n",
       "      <th></th>\n",
       "      <th>Scenario</th>\n",
       "      <th>Monte_Carlo_Run</th>\n",
       "      <th>Iteration</th>\n",
       "      <th>Num_Experiments</th>\n",
       "      <th>Target_Measurements</th>\n",
       "      <th>Target_IterBest</th>\n",
       "      <th>Target_CumBest</th>\n",
       "    </tr>\n",
       "  </thead>\n",
       "  <tbody>\n",
       "    <tr>\n",
       "      <th>0</th>\n",
       "      <td>BO</td>\n",
       "      <td>0</td>\n",
       "      <td>0</td>\n",
       "      <td>2</td>\n",
       "      <td>[-38.481264805001054, -561.5424606614158]</td>\n",
       "      <td>-38.481265</td>\n",
       "      <td>-38.481265</td>\n",
       "    </tr>\n",
       "    <tr>\n",
       "      <th>1</th>\n",
       "      <td>BO</td>\n",
       "      <td>0</td>\n",
       "      <td>1</td>\n",
       "      <td>4</td>\n",
       "      <td>[-53.76717592434244, -21.844581475301933]</td>\n",
       "      <td>-21.844581</td>\n",
       "      <td>-21.844581</td>\n",
       "    </tr>\n",
       "    <tr>\n",
       "      <th>2</th>\n",
       "      <td>BO</td>\n",
       "      <td>0</td>\n",
       "      <td>2</td>\n",
       "      <td>6</td>\n",
       "      <td>[-150.4339083899613, -31.898969627142076]</td>\n",
       "      <td>-31.898970</td>\n",
       "      <td>-21.844581</td>\n",
       "    </tr>\n",
       "    <tr>\n",
       "      <th>3</th>\n",
       "      <td>BO</td>\n",
       "      <td>0</td>\n",
       "      <td>3</td>\n",
       "      <td>8</td>\n",
       "      <td>[-155.13192046280292, -319.50975577161756]</td>\n",
       "      <td>-155.131920</td>\n",
       "      <td>-21.844581</td>\n",
       "    </tr>\n",
       "    <tr>\n",
       "      <th>4</th>\n",
       "      <td>BO</td>\n",
       "      <td>0</td>\n",
       "      <td>4</td>\n",
       "      <td>10</td>\n",
       "      <td>[-56.53720889434915, 17.031553669589506]</td>\n",
       "      <td>17.031554</td>\n",
       "      <td>17.031554</td>\n",
       "    </tr>\n",
       "    <tr>\n",
       "      <th>...</th>\n",
       "      <td>...</td>\n",
       "      <td>...</td>\n",
       "      <td>...</td>\n",
       "      <td>...</td>\n",
       "      <td>...</td>\n",
       "      <td>...</td>\n",
       "      <td>...</td>\n",
       "    </tr>\n",
       "    <tr>\n",
       "      <th>145</th>\n",
       "      <td>Random</td>\n",
       "      <td>4</td>\n",
       "      <td>10</td>\n",
       "      <td>22</td>\n",
       "      <td>[-99.03379421029918, 63.812301003318936]</td>\n",
       "      <td>63.812301</td>\n",
       "      <td>274.708044</td>\n",
       "    </tr>\n",
       "    <tr>\n",
       "      <th>146</th>\n",
       "      <td>Random</td>\n",
       "      <td>4</td>\n",
       "      <td>11</td>\n",
       "      <td>24</td>\n",
       "      <td>[-198.833717210471, -269.5582388583611]</td>\n",
       "      <td>-198.833717</td>\n",
       "      <td>274.708044</td>\n",
       "    </tr>\n",
       "    <tr>\n",
       "      <th>147</th>\n",
       "      <td>Random</td>\n",
       "      <td>4</td>\n",
       "      <td>12</td>\n",
       "      <td>26</td>\n",
       "      <td>[207.68384586033613, -278.60764136736094]</td>\n",
       "      <td>207.683846</td>\n",
       "      <td>274.708044</td>\n",
       "    </tr>\n",
       "    <tr>\n",
       "      <th>148</th>\n",
       "      <td>Random</td>\n",
       "      <td>4</td>\n",
       "      <td>13</td>\n",
       "      <td>28</td>\n",
       "      <td>[-63.830898554328634, -92.92324500847083]</td>\n",
       "      <td>-63.830899</td>\n",
       "      <td>274.708044</td>\n",
       "    </tr>\n",
       "    <tr>\n",
       "      <th>149</th>\n",
       "      <td>Random</td>\n",
       "      <td>4</td>\n",
       "      <td>14</td>\n",
       "      <td>30</td>\n",
       "      <td>[-331.74139130659125, -40.2302030248773]</td>\n",
       "      <td>-40.230203</td>\n",
       "      <td>274.708044</td>\n",
       "    </tr>\n",
       "  </tbody>\n",
       "</table>\n",
       "<p>150 rows × 7 columns</p>\n",
       "</div>"
      ],
      "text/plain": [
       "    Scenario  Monte_Carlo_Run  Iteration  Num_Experiments  \\\n",
       "0         BO                0          0                2   \n",
       "1         BO                0          1                4   \n",
       "2         BO                0          2                6   \n",
       "3         BO                0          3                8   \n",
       "4         BO                0          4               10   \n",
       "..       ...              ...        ...              ...   \n",
       "145   Random                4         10               22   \n",
       "146   Random                4         11               24   \n",
       "147   Random                4         12               26   \n",
       "148   Random                4         13               28   \n",
       "149   Random                4         14               30   \n",
       "\n",
       "                            Target_Measurements  Target_IterBest  \\\n",
       "0     [-38.481264805001054, -561.5424606614158]       -38.481265   \n",
       "1     [-53.76717592434244, -21.844581475301933]       -21.844581   \n",
       "2     [-150.4339083899613, -31.898969627142076]       -31.898970   \n",
       "3    [-155.13192046280292, -319.50975577161756]      -155.131920   \n",
       "4      [-56.53720889434915, 17.031553669589506]        17.031554   \n",
       "..                                          ...              ...   \n",
       "145    [-99.03379421029918, 63.812301003318936]        63.812301   \n",
       "146     [-198.833717210471, -269.5582388583611]      -198.833717   \n",
       "147   [207.68384586033613, -278.60764136736094]       207.683846   \n",
       "148   [-63.830898554328634, -92.92324500847083]       -63.830899   \n",
       "149    [-331.74139130659125, -40.2302030248773]       -40.230203   \n",
       "\n",
       "     Target_CumBest  \n",
       "0        -38.481265  \n",
       "1        -21.844581  \n",
       "2        -21.844581  \n",
       "3        -21.844581  \n",
       "4         17.031554  \n",
       "..              ...  \n",
       "145      274.708044  \n",
       "146      274.708044  \n",
       "147      274.708044  \n",
       "148      274.708044  \n",
       "149      274.708044  \n",
       "\n",
       "[150 rows x 7 columns]"
      ]
     },
     "execution_count": 10,
     "metadata": {},
     "output_type": "execute_result"
    }
   ],
   "source": [
    "from baybe.simulation import simulate_scenarios\n",
    "\n",
    "# How often a campaign loop is performed, each time starting with a different random seed\n",
    "MC_RUNS = 5\n",
    "\n",
    "# Amount of subsequent recommend-measure iterations done per campaign\n",
    "DOE_ITERATIONS = 15\n",
    "\n",
    "# Amount of recommendations received / measurements performed per iteration\n",
    "BATCH_SIZE = 2\n",
    "\n",
    "# Dict organizing the campaigns\n",
    "scenarios = {\n",
    "    \"BO\": campaign,\n",
    "    \"Random\": campaign_random,\n",
    "}\n",
    "\n",
    "# Run the utility for backtesting\n",
    "results = simulate_scenarios(\n",
    "    scenarios,\n",
    "    simple_function,\n",
    "    batch_size = BATCH_SIZE,\n",
    "    n_doe_iterations = DOE_ITERATIONS,\n",
    "    n_mc_iterations = MC_RUNS,\n",
    ")\n",
    "results"
   ]
  },
  {
   "cell_type": "markdown",
   "id": "8ab214f8-dd67-417e-b2e8-085722d06f43",
   "metadata": {},
   "source": [
    "# Plot the Result"
   ]
  },
  {
   "cell_type": "code",
   "execution_count": 13,
   "id": "9bd3ff8f-d7d3-471e-bc07-7b4d3b14185d",
   "metadata": {
    "tags": []
   },
   "outputs": [
    {
     "data": {
      "image/png": "[encoded data removed]",
      "text/plain": [
       "<Figure size 1100x600 with 1 Axes>"
      ]
     },
     "metadata": {},
     "output_type": "display_data"
    }
   ],
   "source": [
    "PLOTARGS = {\n",
    "    'linestyle': 'solid',\n",
    "    'marker': 'o',\n",
    "    'markersize': 6, \n",
    "    'markeredgecolor': 'none'\n",
    "}\n",
    "FIGSIZE = (11,6)\n",
    "\n",
    "sns.lineplot(data = results, \n",
    "             x = \"Num_Experiments\", \n",
    "             y = \"Target_CumBest\", \n",
    "             hue = \"Scenario\",\n",
    "             **PLOTARGS)\n",
    "\n",
    "plt.axhline(y = F_BEST, color = 'red', linestyle='--', label='Best Possible')\n",
    "plt.gcf().set_size_inches(FIGSIZE)\n",
    "plt.gca().set_ylim(plt.gca().get_ylim()[0], F_BEST+30)\n",
    "plt.legend()\n",
    "plt.title('Simple Process Optimization');"
   ]
  }
 ],
 "metadata": {
  "kernelspec": {
   "display_name": "BayBE-dev",
   "language": "python",
   "name": "baybe-dev"
  },
  "language_info": {
   "codemirror_mode": {
    "name": "ipython",
    "version": 3
   },
   "file_extension": ".py",
   "mimetype": "text/x-python",
   "name": "python",
   "nbconvert_exporter": "python",
   "pygments_lexer": "ipython3",
   "version": "3.12.4"
  }
 },
 "nbformat": 4,
 "nbformat_minor": 5
}
