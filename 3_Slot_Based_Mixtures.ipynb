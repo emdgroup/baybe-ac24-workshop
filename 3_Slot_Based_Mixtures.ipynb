{
 "cells": [
  {
   "cell_type": "markdown",
   "id": "e921eaa3-f0cb-4973-90dd-73d505f5603e",
   "metadata": {},
   "source": [
    "# Slot-Based Mixture Modeling\n",
    "\n",
    "How to model mixtures with a slot-based approach instead of the traditional approach.\n",
    "\n",
    "Find more information here:\n",
    "- [Mixture Example](https://emdgroup.github.io/baybe/examples/Constraints_Discrete/mixture_constraints.html)\n",
    "- [BayBE GitHub](https://github.com/emdgroup/baybe)\n",
    "- [BayBE Userguide](https://emdgroup.github.io/baybe/userguide/userguide.html)\n",
    "\n",
    "<a target=\"_blank\" href=\"https://colab.research.google.com/github/emdgroup/baybe-ac24-workshop/blob/main/3_Slot_Based_Mixtures.ipynb\">\n",
    "  <img src=\"https://colab.research.google.com/assets/colab-badge.svg\" alt=\"Open In Colab\"/>\n",
    "</a>\n",
    "<a target=\"_blank\" href=\"https://mybinder.org/v2/gh/emdgroup/baybe-ac24-workshop/HEAD?labpath=3_Slot_Based_Mixtures.ipynb\">\n",
    "  <img src=\"https://mybinder.org/badge_logo.svg\" alt=\"Launch Binder\"/>\n",
    "</a>"
   ]
  },
  {
   "cell_type": "markdown",
   "id": "80437ed4-6afb-4d5a-90aa-d840719a37cf",
   "metadata": {},
   "source": [
    "# Install and Import"
   ]
  },
  {
   "cell_type": "code",
   "execution_count": null,
   "id": "9858f10e-f33a-414d-8bf5-fc51c6159a71",
   "metadata": {},
   "outputs": [],
   "source": [
    "!pip install 'baybe[chem]==0.10.0' seaborn matplotlib"
   ]
  },
  {
   "cell_type": "code",
   "execution_count": null,
   "id": "1d060866-26e6-4f66-b7c7-93779cf38d79",
   "metadata": {
    "tags": []
   },
   "outputs": [],
   "source": [
    "import os\n",
    "import numpy as np\n",
    "import warnings\n",
    "warnings.filterwarnings('ignore', category = FutureWarning)\n",
    "warnings.filterwarnings('ignore', message = '.*BayBE.*')\n",
    "\n",
    "import baybe\n",
    "os.environ['BAYBE_CACHE_DIR']='' # turn descriptor caching off\n",
    "baybe.__version__"
   ]
  },
  {
   "cell_type": "markdown",
   "id": "080a4d99-22a4-45b6-96c8-0fec919ce817",
   "metadata": {},
   "source": [
    "# Defining Mixture Substances\n",
    "\n",
    "Let us consider 6 common solvents and create an experimental campaign supposed to optimize their mixture."
   ]
  },
  {
   "cell_type": "code",
   "execution_count": 22,
   "id": "4d38e3cb-988e-4385-b874-e2c3c5961150",
   "metadata": {
    "tags": []
   },
   "outputs": [],
   "source": [
    "dict_solvents = {\n",
    "    \"Water\": \"O\",\n",
    "    \"Hexane\": \"CCCCCC\",\n",
    "    \"Toluene\": \"CC1=CC=CC=C1\",\n",
    "    \"DMF\": \"CN(C)C=O\",\n",
    "    \"Dioxane\": \"C1COCCO1\",\n",
    "    \"Ethanol\":\"CCO\",\n",
    "}"
   ]
  },
  {
   "cell_type": "code",
   "execution_count": 23,
   "id": "377aec6d-33b7-4ff2-90e6-34368a28e610",
   "metadata": {
    "tags": []
   },
   "outputs": [
    {
     "data": {
      "image/png": "[encoded data removed]",
      "text/plain": [
       "<IPython.core.display.Image object>"
      ]
     },
     "execution_count": 23,
     "metadata": {},
     "output_type": "execute_result"
    }
   ],
   "source": [
    "from rdkit import Chem\n",
    "from rdkit.Chem import Draw\n",
    "\n",
    "mols = [Chem.MolFromSmiles(smi) for smi in dict_solvents.values()]\n",
    "Draw.MolsToGridImage(mols, molsPerRow = 3, legends = dict_solvents.keys())"
   ]
  },
  {
   "cell_type": "markdown",
   "id": "8c9d2c7b-365b-4498-98e5-954a134af6df",
   "metadata": {
    "tags": []
   },
   "source": [
    "# Traditional Mixture Search Space"
   ]
  },
  {
   "cell_type": "markdown",
   "id": "b9df6c36-0c76-44d7-a3ff-05d703c4d4bb",
   "metadata": {},
   "source": [
    "In this example we use discrete setpoints for the concentrations."
   ]
  },
  {
   "cell_type": "code",
   "execution_count": 4,
   "id": "e6c955bf-d81c-4d5c-aecb-878e7843baf3",
   "metadata": {
    "tags": []
   },
   "outputs": [
    {
     "data": {
      "text/plain": [
       "[0.0, 0.1, 0.2, 0.3, 0.4, 0.5, 0.6, 0.7, 0.8, 0.9, 1.0]"
      ]
     },
     "execution_count": 4,
     "metadata": {},
     "output_type": "execute_result"
    }
   ],
   "source": [
    "setpoints = np.linspace(0.0, 1.0, 10+1).round(2).tolist()\n",
    "setpoints"
   ]
  },
  {
   "cell_type": "markdown",
   "id": "8ca5d90f-0c73-49fd-92bd-16218492a895",
   "metadata": {},
   "source": [
    "Now we create a numerical parameter for each of the substances."
   ]
  },
  {
   "cell_type": "code",
   "execution_count": 5,
   "id": "f4e5f16c-d31e-4cf3-bcf0-e0a21b82585f",
   "metadata": {
    "tags": []
   },
   "outputs": [],
   "source": [
    "from baybe.parameters import NumericalDiscreteParameter\n",
    "\n",
    "parameters = [\n",
    "    NumericalDiscreteParameter(\n",
    "        name=f'{name}',\n",
    "        values=setpoints\n",
    "    )\n",
    "    for name in dict_solvents\n",
    "]"
   ]
  },
  {
   "cell_type": "markdown",
   "id": "460e996b-3107-4a6a-9b42-cb1bc565874d",
   "metadata": {
    "tags": []
   },
   "source": [
    "## Inspecting SearchSpaces"
   ]
  },
  {
   "cell_type": "markdown",
   "id": "29d509b2-4670-42da-b880-12306258568f",
   "metadata": {},
   "source": [
    "In BayBE, a search space is represented by a `discrete` and `continuous` part. These sub spaces manage all aspects dealing with translating the users-defined settings to something machine readable for the machine learning surrogate mdoel.\n",
    "\n",
    "The `discrete` sub space has two dataframes representing all desired combinations resulting from discrete parameters.\n",
    "- `exp_rep`: The experimental representation, still containing labels for e.g. categories and substances. Recommendations given to the user will be in this representation.\n",
    "- `comp_rep`: The comutational representation, consisting of only numbers that result from the encoding of parameter labels and values.\n",
    "\n",
    "You can access the underlying data frames like `searchspace.discrete.exp_rep` and `searchspace.discrete.comp_rep`."
   ]
  },
  {
   "cell_type": "markdown",
   "id": "988d0609-5995-43ab-b12d-64bb62255b96",
   "metadata": {
    "tags": []
   },
   "source": [
    "## SearchSpace Via Constraint\n",
    "\n",
    "In this notebook we will limit us to create the correpsonding search space with discrete parameters, i.e. with concrete set points. But the traditional mixture representation in BayBE can also be achieved with continuous numerical parameters and corresponding linear equality constarints."
   ]
  },
  {
   "cell_type": "code",
   "execution_count": 26,
   "id": "b879c223-d4da-4fd0-a8e2-30b0239a73ad",
   "metadata": {
    "tags": []
   },
   "outputs": [
    {
     "data": {
      "text/html": [
       "<div>\n",
       "<style scoped>\n",
       "    .dataframe tbody tr th:only-of-type {\n",
       "        vertical-align: middle;\n",
       "    }\n",
       "\n",
       "    .dataframe tbody tr th {\n",
       "        vertical-align: top;\n",
       "    }\n",
       "\n",
       "    .dataframe thead th {\n",
       "        text-align: right;\n",
       "    }\n",
       "</style>\n",
       "<table border=\"1\" class=\"dataframe\">\n",
       "  <thead>\n",
       "    <tr style=\"text-align: right;\">\n",
       "      <th></th>\n",
       "      <th>Water</th>\n",
       "      <th>Hexane</th>\n",
       "      <th>Toluene</th>\n",
       "      <th>DMF</th>\n",
       "      <th>Dioxane</th>\n",
       "      <th>Ethanol</th>\n",
       "    </tr>\n",
       "  </thead>\n",
       "  <tbody>\n",
       "    <tr>\n",
       "      <th>0</th>\n",
       "      <td>0.0</td>\n",
       "      <td>0.0</td>\n",
       "      <td>0.0</td>\n",
       "      <td>0.0</td>\n",
       "      <td>0.0</td>\n",
       "      <td>1.0</td>\n",
       "    </tr>\n",
       "    <tr>\n",
       "      <th>1</th>\n",
       "      <td>0.0</td>\n",
       "      <td>0.0</td>\n",
       "      <td>0.0</td>\n",
       "      <td>0.0</td>\n",
       "      <td>0.1</td>\n",
       "      <td>0.9</td>\n",
       "    </tr>\n",
       "    <tr>\n",
       "      <th>2</th>\n",
       "      <td>0.0</td>\n",
       "      <td>0.0</td>\n",
       "      <td>0.0</td>\n",
       "      <td>0.0</td>\n",
       "      <td>0.2</td>\n",
       "      <td>0.8</td>\n",
       "    </tr>\n",
       "    <tr>\n",
       "      <th>3</th>\n",
       "      <td>0.0</td>\n",
       "      <td>0.0</td>\n",
       "      <td>0.0</td>\n",
       "      <td>0.0</td>\n",
       "      <td>0.3</td>\n",
       "      <td>0.7</td>\n",
       "    </tr>\n",
       "    <tr>\n",
       "      <th>4</th>\n",
       "      <td>0.0</td>\n",
       "      <td>0.0</td>\n",
       "      <td>0.0</td>\n",
       "      <td>0.0</td>\n",
       "      <td>0.4</td>\n",
       "      <td>0.6</td>\n",
       "    </tr>\n",
       "    <tr>\n",
       "      <th>...</th>\n",
       "      <td>...</td>\n",
       "      <td>...</td>\n",
       "      <td>...</td>\n",
       "      <td>...</td>\n",
       "      <td>...</td>\n",
       "      <td>...</td>\n",
       "    </tr>\n",
       "    <tr>\n",
       "      <th>2998</th>\n",
       "      <td>0.0</td>\n",
       "      <td>0.0</td>\n",
       "      <td>0.9</td>\n",
       "      <td>0.0</td>\n",
       "      <td>0.1</td>\n",
       "      <td>0.0</td>\n",
       "    </tr>\n",
       "    <tr>\n",
       "      <th>2999</th>\n",
       "      <td>0.0</td>\n",
       "      <td>0.0</td>\n",
       "      <td>0.9</td>\n",
       "      <td>0.1</td>\n",
       "      <td>0.0</td>\n",
       "      <td>0.0</td>\n",
       "    </tr>\n",
       "    <tr>\n",
       "      <th>3000</th>\n",
       "      <td>0.1</td>\n",
       "      <td>0.0</td>\n",
       "      <td>0.9</td>\n",
       "      <td>0.0</td>\n",
       "      <td>0.0</td>\n",
       "      <td>0.0</td>\n",
       "    </tr>\n",
       "    <tr>\n",
       "      <th>3001</th>\n",
       "      <td>0.0</td>\n",
       "      <td>0.1</td>\n",
       "      <td>0.9</td>\n",
       "      <td>0.0</td>\n",
       "      <td>0.0</td>\n",
       "      <td>0.0</td>\n",
       "    </tr>\n",
       "    <tr>\n",
       "      <th>3002</th>\n",
       "      <td>0.0</td>\n",
       "      <td>0.0</td>\n",
       "      <td>1.0</td>\n",
       "      <td>0.0</td>\n",
       "      <td>0.0</td>\n",
       "      <td>0.0</td>\n",
       "    </tr>\n",
       "  </tbody>\n",
       "</table>\n",
       "<p>3003 rows × 6 columns</p>\n",
       "</div>"
      ],
      "text/plain": [
       "      Water  Hexane  Toluene  DMF  Dioxane  Ethanol\n",
       "0       0.0     0.0      0.0  0.0      0.0      1.0\n",
       "1       0.0     0.0      0.0  0.0      0.1      0.9\n",
       "2       0.0     0.0      0.0  0.0      0.2      0.8\n",
       "3       0.0     0.0      0.0  0.0      0.3      0.7\n",
       "4       0.0     0.0      0.0  0.0      0.4      0.6\n",
       "...     ...     ...      ...  ...      ...      ...\n",
       "2998    0.0     0.0      0.9  0.0      0.1      0.0\n",
       "2999    0.0     0.0      0.9  0.1      0.0      0.0\n",
       "3000    0.1     0.0      0.9  0.0      0.0      0.0\n",
       "3001    0.0     0.1      0.9  0.0      0.0      0.0\n",
       "3002    0.0     0.0      1.0  0.0      0.0      0.0\n",
       "\n",
       "[3003 rows x 6 columns]"
      ]
     },
     "execution_count": 26,
     "metadata": {},
     "output_type": "execute_result"
    }
   ],
   "source": [
    "from baybe.constraints import DiscreteSumConstraint, ThresholdCondition\n",
    "from baybe.searchspace import SearchSpace\n",
    "\n",
    "sum_constraint = DiscreteSumConstraint(parameters = dict_solvents.keys(),\n",
    "                                       condition = ThresholdCondition(threshold = 1.0,\n",
    "                                                                      operator = '='))\n",
    "\n",
    "searchspace = SearchSpace.from_product(parameters = parameters,\n",
    "                                       constraints = [sum_constraint])\n",
    "searchspace.discrete.exp_rep"
   ]
  },
  {
   "cell_type": "code",
   "execution_count": 27,
   "id": "1a7ca914-395d-4d7c-acd2-4e1a55a9996a",
   "metadata": {
    "tags": []
   },
   "outputs": [
    {
     "data": {
      "text/plain": [
       "True"
      ]
     },
     "execution_count": 27,
     "metadata": {},
     "output_type": "execute_result"
    }
   ],
   "source": [
    "# Check that all rows sum to 1.0 (within a small tolerance)\n",
    "(searchspace.discrete\n",
    "            .exp_rep\n",
    "            .sum(axis = 1)\n",
    "            .apply(lambda x: x-1.0)\n",
    "            .abs()\n",
    "            .lt(0.001)\n",
    "            .all())"
   ]
  },
  {
   "cell_type": "markdown",
   "id": "efb823ce-3215-4d06-996e-1f7b9625f41c",
   "metadata": {
    "tags": []
   },
   "source": [
    "## SearchSpace Via Simplex Constructor\n",
    "This constructor already incorporates the main sum constraint during the product creation and hence is much more efficient. It is always to be preferred for discrete mixture representations. This constructor, for isntance, also has the capability to include cardinality constraints (also known as n-choose-k or similar), which is useful when e.g. a minimum of `k1` and a maximum of `k2` components should be included in the mixture (`min_nonzero` and `max_nonzero` arguments, not used below).\n",
    "\n",
    "More details on the simplex constructor [here](https://emdgroup.github.io/baybe/userguide/searchspace.html#creating-a-simplex-bound-discrete-subspace) and [here](https://emdgroup.github.io/baybe/_autosummary/baybe.searchspace.discrete.SubspaceDiscrete.html#baybe.searchspace.discrete.SubspaceDiscrete.from_simplex)."
   ]
  },
  {
   "cell_type": "code",
   "execution_count": 8,
   "id": "20f22750-ab8f-4d0f-9b48-1fe680b46359",
   "metadata": {
    "tags": []
   },
   "outputs": [
    {
     "data": {
      "text/html": [
       "<div>\n",
       "<style scoped>\n",
       "    .dataframe tbody tr th:only-of-type {\n",
       "        vertical-align: middle;\n",
       "    }\n",
       "\n",
       "    .dataframe tbody tr th {\n",
       "        vertical-align: top;\n",
       "    }\n",
       "\n",
       "    .dataframe thead th {\n",
       "        text-align: right;\n",
       "    }\n",
       "</style>\n",
       "<table border=\"1\" class=\"dataframe\">\n",
       "  <thead>\n",
       "    <tr style=\"text-align: right;\">\n",
       "      <th></th>\n",
       "      <th>Water</th>\n",
       "      <th>Hexane</th>\n",
       "      <th>Toluene</th>\n",
       "      <th>DMF</th>\n",
       "      <th>Dioxane</th>\n",
       "      <th>Ethanol</th>\n",
       "    </tr>\n",
       "  </thead>\n",
       "  <tbody>\n",
       "    <tr>\n",
       "      <th>0</th>\n",
       "      <td>0.0</td>\n",
       "      <td>0.0</td>\n",
       "      <td>0.0</td>\n",
       "      <td>0.0</td>\n",
       "      <td>0.0</td>\n",
       "      <td>1.0</td>\n",
       "    </tr>\n",
       "    <tr>\n",
       "      <th>1</th>\n",
       "      <td>0.0</td>\n",
       "      <td>0.0</td>\n",
       "      <td>0.0</td>\n",
       "      <td>0.0</td>\n",
       "      <td>0.1</td>\n",
       "      <td>0.9</td>\n",
       "    </tr>\n",
       "    <tr>\n",
       "      <th>2</th>\n",
       "      <td>0.0</td>\n",
       "      <td>0.0</td>\n",
       "      <td>0.0</td>\n",
       "      <td>0.0</td>\n",
       "      <td>0.2</td>\n",
       "      <td>0.8</td>\n",
       "    </tr>\n",
       "    <tr>\n",
       "      <th>3</th>\n",
       "      <td>0.0</td>\n",
       "      <td>0.0</td>\n",
       "      <td>0.0</td>\n",
       "      <td>0.0</td>\n",
       "      <td>0.3</td>\n",
       "      <td>0.7</td>\n",
       "    </tr>\n",
       "    <tr>\n",
       "      <th>4</th>\n",
       "      <td>0.0</td>\n",
       "      <td>0.0</td>\n",
       "      <td>0.0</td>\n",
       "      <td>0.0</td>\n",
       "      <td>0.4</td>\n",
       "      <td>0.6</td>\n",
       "    </tr>\n",
       "    <tr>\n",
       "      <th>...</th>\n",
       "      <td>...</td>\n",
       "      <td>...</td>\n",
       "      <td>...</td>\n",
       "      <td>...</td>\n",
       "      <td>...</td>\n",
       "      <td>...</td>\n",
       "    </tr>\n",
       "    <tr>\n",
       "      <th>2998</th>\n",
       "      <td>0.9</td>\n",
       "      <td>0.0</td>\n",
       "      <td>0.0</td>\n",
       "      <td>0.0</td>\n",
       "      <td>0.1</td>\n",
       "      <td>0.0</td>\n",
       "    </tr>\n",
       "    <tr>\n",
       "      <th>2999</th>\n",
       "      <td>0.9</td>\n",
       "      <td>0.0</td>\n",
       "      <td>0.0</td>\n",
       "      <td>0.1</td>\n",
       "      <td>0.0</td>\n",
       "      <td>0.0</td>\n",
       "    </tr>\n",
       "    <tr>\n",
       "      <th>3000</th>\n",
       "      <td>0.9</td>\n",
       "      <td>0.0</td>\n",
       "      <td>0.1</td>\n",
       "      <td>0.0</td>\n",
       "      <td>0.0</td>\n",
       "      <td>0.0</td>\n",
       "    </tr>\n",
       "    <tr>\n",
       "      <th>3001</th>\n",
       "      <td>0.9</td>\n",
       "      <td>0.1</td>\n",
       "      <td>0.0</td>\n",
       "      <td>0.0</td>\n",
       "      <td>0.0</td>\n",
       "      <td>0.0</td>\n",
       "    </tr>\n",
       "    <tr>\n",
       "      <th>3002</th>\n",
       "      <td>1.0</td>\n",
       "      <td>0.0</td>\n",
       "      <td>0.0</td>\n",
       "      <td>0.0</td>\n",
       "      <td>0.0</td>\n",
       "      <td>0.0</td>\n",
       "    </tr>\n",
       "  </tbody>\n",
       "</table>\n",
       "<p>3003 rows × 6 columns</p>\n",
       "</div>"
      ],
      "text/plain": [
       "      Water  Hexane  Toluene  DMF  Dioxane  Ethanol\n",
       "0       0.0     0.0      0.0  0.0      0.0      1.0\n",
       "1       0.0     0.0      0.0  0.0      0.1      0.9\n",
       "2       0.0     0.0      0.0  0.0      0.2      0.8\n",
       "3       0.0     0.0      0.0  0.0      0.3      0.7\n",
       "4       0.0     0.0      0.0  0.0      0.4      0.6\n",
       "...     ...     ...      ...  ...      ...      ...\n",
       "2998    0.9     0.0      0.0  0.0      0.1      0.0\n",
       "2999    0.9     0.0      0.0  0.1      0.0      0.0\n",
       "3000    0.9     0.0      0.1  0.0      0.0      0.0\n",
       "3001    0.9     0.1      0.0  0.0      0.0      0.0\n",
       "3002    1.0     0.0      0.0  0.0      0.0      0.0\n",
       "\n",
       "[3003 rows x 6 columns]"
      ]
     },
     "execution_count": 8,
     "metadata": {},
     "output_type": "execute_result"
    }
   ],
   "source": [
    "from baybe.searchspace import SubspaceDiscrete\n",
    "\n",
    "discrete_space2 = SubspaceDiscrete.from_simplex(1.0, # Overall sum we intend\n",
    "                                                parameters, # Our numerical parameters\n",
    "                                                product_parameters = None, # We have no other parameters\n",
    "                                                constraints = None, # We have no other constraints\n",
    "                                                boundary_only = True) # We only want entries on the bpundary of 1.0, not below\n",
    "searchspace2 = SearchSpace(discrete = discrete_space2)\n",
    "searchspace2.discrete.exp_rep"
   ]
  },
  {
   "cell_type": "code",
   "execution_count": 9,
   "id": "6d5f2007-2675-48f7-a843-e19f2d96ab4b",
   "metadata": {
    "tags": []
   },
   "outputs": [
    {
     "data": {
      "text/plain": [
       "True"
      ]
     },
     "execution_count": 9,
     "metadata": {},
     "output_type": "execute_result"
    }
   ],
   "source": [
    "# Check that all rows sum to 1.0 (within a small tolerance)\n",
    "(searchspace2.discrete\n",
    "             .exp_rep\n",
    "             .sum(axis = 1)\n",
    "             .apply(lambda x: x-1.0)\n",
    "             .abs()\n",
    "             .lt(0.001)\n",
    "             .all())"
   ]
  },
  {
   "cell_type": "markdown",
   "id": "62ca06d1-5048-4a05-84b9-84807f08e9f3",
   "metadata": {
    "tags": []
   },
   "source": [
    "# Slot-Based Search Space"
   ]
  },
  {
   "cell_type": "markdown",
   "id": "c4ce0eda-0f27-4d26-a3ac-34fb1b7dfaa4",
   "metadata": {},
   "source": [
    "Instead of one parameter per allowed substance, we will create slots. Each slot is represented by two parameters, one for the label of the substance that is in the slot, and another one for the concentration associated with that slot.\n",
    "\n",
    "To do this we must choose the maximum number of slots. This means we model a mixture that allows \"up to `N_SLOTS` substances\" being part of it. This comes with two distinct advantages:\n",
    "- We can use BayBE's label encoding to inform the model about the chemical properties of the substances in the slot\n",
    "- Since without additional constraints, slots are numered and thus imply an order, this automatically models the order of addition, too"
   ]
  },
  {
   "cell_type": "code",
   "execution_count": 28,
   "id": "0da19bed-188f-4bb8-ba39-82abf694c6ad",
   "metadata": {
    "tags": []
   },
   "outputs": [],
   "source": [
    "from baybe.parameters import SubstanceParameter\n",
    "\n",
    "N_SLOTS = 3\n",
    "\n",
    "# Parameters fore the slot labels\n",
    "slots = [\n",
    "    SubstanceParameter(name = f'Slot_{k+1}', data = dict_solvents)\n",
    "    for k in range(N_SLOTS)\n",
    "]\n",
    "\n",
    "# Parameters for the slot concentrations\n",
    "slot_amounts = [\n",
    "    NumericalDiscreteParameter(name = f'Slot_{k+1}_Amount', values = setpoints)\n",
    "    for k in range(N_SLOTS)\n",
    "]\n",
    "\n",
    "# We also need a sum constraint for the overal sum\n",
    "sum_constraint = DiscreteSumConstraint(\n",
    "    parameters = [p.name for p in slot_amounts],\n",
    "    condition = ThresholdCondition(\n",
    "        threshold = 1.0,\n",
    "        operator = '='\n",
    "    )\n",
    ")"
   ]
  },
  {
   "cell_type": "markdown",
   "id": "b494b6c1-e8e9-4998-9d47-91c31a082b11",
   "metadata": {},
   "source": [
    "## Naive Result\n",
    "Without further consideration we get a search space that has several issues that need to be fixed, some of them not so obvious. "
   ]
  },
  {
   "cell_type": "code",
   "execution_count": 11,
   "id": "bde717d4-c19e-486d-979d-0d0a608ecc7e",
   "metadata": {
    "tags": []
   },
   "outputs": [
    {
     "data": {
      "text/html": [
       "<div>\n",
       "<style scoped>\n",
       "    .dataframe tbody tr th:only-of-type {\n",
       "        vertical-align: middle;\n",
       "    }\n",
       "\n",
       "    .dataframe tbody tr th {\n",
       "        vertical-align: top;\n",
       "    }\n",
       "\n",
       "    .dataframe thead th {\n",
       "        text-align: right;\n",
       "    }\n",
       "</style>\n",
       "<table border=\"1\" class=\"dataframe\">\n",
       "  <thead>\n",
       "    <tr style=\"text-align: right;\">\n",
       "      <th></th>\n",
       "      <th>Slot_1</th>\n",
       "      <th>Slot_2</th>\n",
       "      <th>Slot_3</th>\n",
       "      <th>Slot_1_Amount</th>\n",
       "      <th>Slot_2_Amount</th>\n",
       "      <th>Slot_3_Amount</th>\n",
       "    </tr>\n",
       "  </thead>\n",
       "  <tbody>\n",
       "    <tr>\n",
       "      <th>0</th>\n",
       "      <td>Water</td>\n",
       "      <td>Water</td>\n",
       "      <td>Water</td>\n",
       "      <td>0.0</td>\n",
       "      <td>0.0</td>\n",
       "      <td>1.0</td>\n",
       "    </tr>\n",
       "    <tr>\n",
       "      <th>1</th>\n",
       "      <td>Water</td>\n",
       "      <td>Water</td>\n",
       "      <td>Water</td>\n",
       "      <td>0.0</td>\n",
       "      <td>0.1</td>\n",
       "      <td>0.9</td>\n",
       "    </tr>\n",
       "    <tr>\n",
       "      <th>2</th>\n",
       "      <td>Water</td>\n",
       "      <td>Water</td>\n",
       "      <td>Water</td>\n",
       "      <td>0.0</td>\n",
       "      <td>0.2</td>\n",
       "      <td>0.8</td>\n",
       "    </tr>\n",
       "    <tr>\n",
       "      <th>3</th>\n",
       "      <td>Water</td>\n",
       "      <td>Water</td>\n",
       "      <td>Water</td>\n",
       "      <td>0.0</td>\n",
       "      <td>0.3</td>\n",
       "      <td>0.7</td>\n",
       "    </tr>\n",
       "    <tr>\n",
       "      <th>4</th>\n",
       "      <td>Water</td>\n",
       "      <td>Water</td>\n",
       "      <td>Water</td>\n",
       "      <td>0.0</td>\n",
       "      <td>0.4</td>\n",
       "      <td>0.6</td>\n",
       "    </tr>\n",
       "    <tr>\n",
       "      <th>...</th>\n",
       "      <td>...</td>\n",
       "      <td>...</td>\n",
       "      <td>...</td>\n",
       "      <td>...</td>\n",
       "      <td>...</td>\n",
       "      <td>...</td>\n",
       "    </tr>\n",
       "    <tr>\n",
       "      <th>14251</th>\n",
       "      <td>Ethanol</td>\n",
       "      <td>Ethanol</td>\n",
       "      <td>Ethanol</td>\n",
       "      <td>0.8</td>\n",
       "      <td>0.1</td>\n",
       "      <td>0.1</td>\n",
       "    </tr>\n",
       "    <tr>\n",
       "      <th>14252</th>\n",
       "      <td>Ethanol</td>\n",
       "      <td>Ethanol</td>\n",
       "      <td>Ethanol</td>\n",
       "      <td>0.8</td>\n",
       "      <td>0.2</td>\n",
       "      <td>0.0</td>\n",
       "    </tr>\n",
       "    <tr>\n",
       "      <th>14253</th>\n",
       "      <td>Ethanol</td>\n",
       "      <td>Ethanol</td>\n",
       "      <td>Ethanol</td>\n",
       "      <td>0.9</td>\n",
       "      <td>0.0</td>\n",
       "      <td>0.1</td>\n",
       "    </tr>\n",
       "    <tr>\n",
       "      <th>14254</th>\n",
       "      <td>Ethanol</td>\n",
       "      <td>Ethanol</td>\n",
       "      <td>Ethanol</td>\n",
       "      <td>0.9</td>\n",
       "      <td>0.1</td>\n",
       "      <td>0.0</td>\n",
       "    </tr>\n",
       "    <tr>\n",
       "      <th>14255</th>\n",
       "      <td>Ethanol</td>\n",
       "      <td>Ethanol</td>\n",
       "      <td>Ethanol</td>\n",
       "      <td>1.0</td>\n",
       "      <td>0.0</td>\n",
       "      <td>0.0</td>\n",
       "    </tr>\n",
       "  </tbody>\n",
       "</table>\n",
       "<p>14256 rows × 6 columns</p>\n",
       "</div>"
      ],
      "text/plain": [
       "        Slot_1   Slot_2   Slot_3  Slot_1_Amount  Slot_2_Amount  Slot_3_Amount\n",
       "0        Water    Water    Water            0.0            0.0            1.0\n",
       "1        Water    Water    Water            0.0            0.1            0.9\n",
       "2        Water    Water    Water            0.0            0.2            0.8\n",
       "3        Water    Water    Water            0.0            0.3            0.7\n",
       "4        Water    Water    Water            0.0            0.4            0.6\n",
       "...        ...      ...      ...            ...            ...            ...\n",
       "14251  Ethanol  Ethanol  Ethanol            0.8            0.1            0.1\n",
       "14252  Ethanol  Ethanol  Ethanol            0.8            0.2            0.0\n",
       "14253  Ethanol  Ethanol  Ethanol            0.9            0.0            0.1\n",
       "14254  Ethanol  Ethanol  Ethanol            0.9            0.1            0.0\n",
       "14255  Ethanol  Ethanol  Ethanol            1.0            0.0            0.0\n",
       "\n",
       "[14256 rows x 6 columns]"
      ]
     },
     "execution_count": 11,
     "metadata": {},
     "output_type": "execute_result"
    }
   ],
   "source": [
    "searchspace3a = SearchSpace.from_product(\n",
    "    parameters = slots + slot_amounts,\n",
    "    constraints = [sum_constraint]\n",
    ")\n",
    "\n",
    "searchspace3a.discrete.exp_rep"
   ]
  },
  {
   "cell_type": "markdown",
   "id": "b82dd6be-ef5f-4be4-9545-c390cb9965d0",
   "metadata": {
    "tags": []
   },
   "source": [
    "## Avoid Duplicate Slots - `DiscreteNoLabelDuplicatesConstraint`"
   ]
  },
  {
   "cell_type": "code",
   "execution_count": 29,
   "id": "7b71d63c-6d8e-4eb2-872b-1f9790bd24f9",
   "metadata": {
    "tags": []
   },
   "outputs": [
    {
     "data": {
      "text/html": [
       "<div>\n",
       "<style scoped>\n",
       "    .dataframe tbody tr th:only-of-type {\n",
       "        vertical-align: middle;\n",
       "    }\n",
       "\n",
       "    .dataframe tbody tr th {\n",
       "        vertical-align: top;\n",
       "    }\n",
       "\n",
       "    .dataframe thead th {\n",
       "        text-align: right;\n",
       "    }\n",
       "</style>\n",
       "<table border=\"1\" class=\"dataframe\">\n",
       "  <thead>\n",
       "    <tr style=\"text-align: right;\">\n",
       "      <th></th>\n",
       "      <th>Slot_1</th>\n",
       "      <th>Slot_2</th>\n",
       "      <th>Slot_3</th>\n",
       "      <th>Slot_1_Amount</th>\n",
       "      <th>Slot_2_Amount</th>\n",
       "      <th>Slot_3_Amount</th>\n",
       "    </tr>\n",
       "  </thead>\n",
       "  <tbody>\n",
       "    <tr>\n",
       "      <th>0</th>\n",
       "      <td>Toluene</td>\n",
       "      <td>Hexane</td>\n",
       "      <td>Water</td>\n",
       "      <td>0.0</td>\n",
       "      <td>0.0</td>\n",
       "      <td>1.0</td>\n",
       "    </tr>\n",
       "    <tr>\n",
       "      <th>1</th>\n",
       "      <td>Toluene</td>\n",
       "      <td>Hexane</td>\n",
       "      <td>Water</td>\n",
       "      <td>0.0</td>\n",
       "      <td>0.1</td>\n",
       "      <td>0.9</td>\n",
       "    </tr>\n",
       "    <tr>\n",
       "      <th>2</th>\n",
       "      <td>Toluene</td>\n",
       "      <td>Hexane</td>\n",
       "      <td>Water</td>\n",
       "      <td>0.0</td>\n",
       "      <td>0.2</td>\n",
       "      <td>0.8</td>\n",
       "    </tr>\n",
       "    <tr>\n",
       "      <th>3</th>\n",
       "      <td>Toluene</td>\n",
       "      <td>Hexane</td>\n",
       "      <td>Water</td>\n",
       "      <td>0.0</td>\n",
       "      <td>0.3</td>\n",
       "      <td>0.7</td>\n",
       "    </tr>\n",
       "    <tr>\n",
       "      <th>4</th>\n",
       "      <td>Toluene</td>\n",
       "      <td>Hexane</td>\n",
       "      <td>Water</td>\n",
       "      <td>0.0</td>\n",
       "      <td>0.4</td>\n",
       "      <td>0.6</td>\n",
       "    </tr>\n",
       "    <tr>\n",
       "      <th>...</th>\n",
       "      <td>...</td>\n",
       "      <td>...</td>\n",
       "      <td>...</td>\n",
       "      <td>...</td>\n",
       "      <td>...</td>\n",
       "      <td>...</td>\n",
       "    </tr>\n",
       "    <tr>\n",
       "      <th>7915</th>\n",
       "      <td>DMF</td>\n",
       "      <td>Dioxane</td>\n",
       "      <td>Ethanol</td>\n",
       "      <td>0.8</td>\n",
       "      <td>0.1</td>\n",
       "      <td>0.1</td>\n",
       "    </tr>\n",
       "    <tr>\n",
       "      <th>7916</th>\n",
       "      <td>DMF</td>\n",
       "      <td>Dioxane</td>\n",
       "      <td>Ethanol</td>\n",
       "      <td>0.8</td>\n",
       "      <td>0.2</td>\n",
       "      <td>0.0</td>\n",
       "    </tr>\n",
       "    <tr>\n",
       "      <th>7917</th>\n",
       "      <td>DMF</td>\n",
       "      <td>Dioxane</td>\n",
       "      <td>Ethanol</td>\n",
       "      <td>0.9</td>\n",
       "      <td>0.0</td>\n",
       "      <td>0.1</td>\n",
       "    </tr>\n",
       "    <tr>\n",
       "      <th>7918</th>\n",
       "      <td>DMF</td>\n",
       "      <td>Dioxane</td>\n",
       "      <td>Ethanol</td>\n",
       "      <td>0.9</td>\n",
       "      <td>0.1</td>\n",
       "      <td>0.0</td>\n",
       "    </tr>\n",
       "    <tr>\n",
       "      <th>7919</th>\n",
       "      <td>DMF</td>\n",
       "      <td>Dioxane</td>\n",
       "      <td>Ethanol</td>\n",
       "      <td>1.0</td>\n",
       "      <td>0.0</td>\n",
       "      <td>0.0</td>\n",
       "    </tr>\n",
       "  </tbody>\n",
       "</table>\n",
       "<p>7920 rows × 6 columns</p>\n",
       "</div>"
      ],
      "text/plain": [
       "       Slot_1   Slot_2   Slot_3  Slot_1_Amount  Slot_2_Amount  Slot_3_Amount\n",
       "0     Toluene   Hexane    Water            0.0            0.0            1.0\n",
       "1     Toluene   Hexane    Water            0.0            0.1            0.9\n",
       "2     Toluene   Hexane    Water            0.0            0.2            0.8\n",
       "3     Toluene   Hexane    Water            0.0            0.3            0.7\n",
       "4     Toluene   Hexane    Water            0.0            0.4            0.6\n",
       "...       ...      ...      ...            ...            ...            ...\n",
       "7915      DMF  Dioxane  Ethanol            0.8            0.1            0.1\n",
       "7916      DMF  Dioxane  Ethanol            0.8            0.2            0.0\n",
       "7917      DMF  Dioxane  Ethanol            0.9            0.0            0.1\n",
       "7918      DMF  Dioxane  Ethanol            0.9            0.1            0.0\n",
       "7919      DMF  Dioxane  Ethanol            1.0            0.0            0.0\n",
       "\n",
       "[7920 rows x 6 columns]"
      ]
     },
     "execution_count": 29,
     "metadata": {},
     "output_type": "execute_result"
    }
   ],
   "source": [
    "from baybe.constraints import DiscreteNoLabelDuplicatesConstraint\n",
    "\n",
    "no_label_duplicate_constraint = DiscreteNoLabelDuplicatesConstraint(\n",
    "    parameters = [p.name for p in slots]\n",
    ")\n",
    "\n",
    "searchspace3b = SearchSpace.from_product(\n",
    "    parameters = slots + slot_amounts,\n",
    "    constraints = [sum_constraint,\n",
    "                   no_label_duplicate_constraint])\n",
    "\n",
    "searchspace3b.discrete.exp_rep"
   ]
  },
  {
   "cell_type": "markdown",
   "id": "6668ff6a-451a-441d-b30b-a4fad8e2c6e3",
   "metadata": {},
   "source": [
    "## Avoid Degenerate Points Caused by a Dependency - `DiscreteDependenciesConstraint`\n",
    "\n",
    "By \"dependency\" we mean a situation where the values of a parameter only matter if another parameter has a certain value.\n",
    "\n",
    "This is, for instance, the case in our slot-based mixture approach, because the slot label does not matter if the slot amount is 0.\n",
    "\n",
    "Another example for this is a switch that turns on certain parts of the equipment which have their own settings. However, these settings only matter if the switch is actually 'on'. If not, these settings can take any value without affecting the result."
   ]
  },
  {
   "cell_type": "code",
   "execution_count": 30,
   "id": "ad5c5d02-c7f7-4751-82b2-2fb423fcb2ef",
   "metadata": {
    "tags": []
   },
   "outputs": [],
   "source": [
    "def show_degenerate_points(df, point):\n",
    "    \"\"\"Returns degenerate equivalents of `point` that are found in `df`.\n",
    "    \n",
    "    This assumes that 0.0 is the degeneracy-causing value on the amounts.\n",
    "    \"\"\"\n",
    "    \n",
    "    idxs = []\n",
    "    for ind, row in df.iterrows():\n",
    "        mask = (row['Slot_1_Amount'] == 0.0) or (row['Slot_1'] == point['Slot_1'].values[0])\n",
    "        mask &= (row['Slot_2_Amount'] == 0.0) or (row['Slot_2'] == point['Slot_2'].values[0])\n",
    "        mask &= (row['Slot_3_Amount'] == 0.0) or (row['Slot_3'] == point['Slot_3'].values[0])\n",
    "        mask &= row['Slot_1_Amount'] == point['Slot_1_Amount'].values[0]\n",
    "        mask &= row['Slot_2_Amount'] == point['Slot_2_Amount'].values[0]\n",
    "        mask &= row['Slot_3_Amount'] == point['Slot_3_Amount'].values[0]\n",
    "        if mask:\n",
    "            idxs.append(ind)\n",
    "\n",
    "    return df.loc[idxs]"
   ]
  },
  {
   "cell_type": "markdown",
   "id": "11206689-701d-4727-8c96-fe0d703a246b",
   "metadata": {},
   "source": [
    "Lets take a look at the degenerate equivalents of the first search space entry. (if you pick en entry that has no 0.0 in the amounts, no degenerate points are expected)."
   ]
  },
  {
   "cell_type": "code",
   "execution_count": 33,
   "id": "1685348c-8d6a-4e8b-a273-fc8c6f6fc8e7",
   "metadata": {
    "tags": []
   },
   "outputs": [
    {
     "data": {
      "text/html": [
       "<div>\n",
       "<style scoped>\n",
       "    .dataframe tbody tr th:only-of-type {\n",
       "        vertical-align: middle;\n",
       "    }\n",
       "\n",
       "    .dataframe tbody tr th {\n",
       "        vertical-align: top;\n",
       "    }\n",
       "\n",
       "    .dataframe thead th {\n",
       "        text-align: right;\n",
       "    }\n",
       "</style>\n",
       "<table border=\"1\" class=\"dataframe\">\n",
       "  <thead>\n",
       "    <tr style=\"text-align: right;\">\n",
       "      <th></th>\n",
       "      <th>Slot_1</th>\n",
       "      <th>Slot_2</th>\n",
       "      <th>Slot_3</th>\n",
       "      <th>Slot_1_Amount</th>\n",
       "      <th>Slot_2_Amount</th>\n",
       "      <th>Slot_3_Amount</th>\n",
       "    </tr>\n",
       "  </thead>\n",
       "  <tbody>\n",
       "    <tr>\n",
       "      <th>1</th>\n",
       "      <td>Toluene</td>\n",
       "      <td>Hexane</td>\n",
       "      <td>Water</td>\n",
       "      <td>0.0</td>\n",
       "      <td>0.1</td>\n",
       "      <td>0.9</td>\n",
       "    </tr>\n",
       "    <tr>\n",
       "      <th>67</th>\n",
       "      <td>DMF</td>\n",
       "      <td>Hexane</td>\n",
       "      <td>Water</td>\n",
       "      <td>0.0</td>\n",
       "      <td>0.1</td>\n",
       "      <td>0.9</td>\n",
       "    </tr>\n",
       "    <tr>\n",
       "      <th>133</th>\n",
       "      <td>Dioxane</td>\n",
       "      <td>Hexane</td>\n",
       "      <td>Water</td>\n",
       "      <td>0.0</td>\n",
       "      <td>0.1</td>\n",
       "      <td>0.9</td>\n",
       "    </tr>\n",
       "    <tr>\n",
       "      <th>199</th>\n",
       "      <td>Ethanol</td>\n",
       "      <td>Hexane</td>\n",
       "      <td>Water</td>\n",
       "      <td>0.0</td>\n",
       "      <td>0.1</td>\n",
       "      <td>0.9</td>\n",
       "    </tr>\n",
       "  </tbody>\n",
       "</table>\n",
       "</div>"
      ],
      "text/plain": [
       "      Slot_1  Slot_2 Slot_3  Slot_1_Amount  Slot_2_Amount  Slot_3_Amount\n",
       "1    Toluene  Hexane  Water            0.0            0.1            0.9\n",
       "67       DMF  Hexane  Water            0.0            0.1            0.9\n",
       "133  Dioxane  Hexane  Water            0.0            0.1            0.9\n",
       "199  Ethanol  Hexane  Water            0.0            0.1            0.9"
      ]
     },
     "execution_count": 33,
     "metadata": {},
     "output_type": "execute_result"
    }
   ],
   "source": [
    "show_degenerate_points(df = searchspace3b.discrete.exp_rep,\n",
    "                       point = searchspace3b.discrete.exp_rep.iloc[[1]])"
   ]
  },
  {
   "cell_type": "code",
   "execution_count": 34,
   "id": "bf2bf2e1-7e76-45d2-8796-82cea140194e",
   "metadata": {
    "tags": []
   },
   "outputs": [],
   "source": [
    "from baybe.constraints import DiscreteDependenciesConstraint\n",
    "\n",
    "dependency_constraint = DiscreteDependenciesConstraint(\n",
    "    parameters = [\"Slot_1_Amount\",\n",
    "                  \"Slot_2_Amount\",\n",
    "                  \"Slot_3_Amount\"],\n",
    "    affected_parameters = [[\"Slot_1\"], # depends on Slot_1_Amount being > 0.0\n",
    "                           [\"Slot_2\"], # depends on Slot_2_Amount being > 0.0\n",
    "                           [\"Slot_3\"]],# depends on Slot_3_Amount being > 0.0\n",
    "    conditions = [\n",
    "        ThresholdCondition(threshold = 0.0, operator = \">\"), # the affected parameters are only relevant is this condition is True\n",
    "        ThresholdCondition(threshold = 0.0, operator = \">\"),\n",
    "        ThresholdCondition(threshold = 0.0, operator = \">\"),\n",
    "    ],\n",
    ")\n",
    "\n",
    "searchspace3c = SearchSpace.from_product(parameters = slots + slot_amounts,\n",
    "                                         constraints = [sum_constraint,\n",
    "                                                        no_label_duplicate_constraint,\n",
    "                                                        dependency_constraint])"
   ]
  },
  {
   "cell_type": "markdown",
   "id": "962c37e3-7d20-48b0-86ba-4cd5cbaf91be",
   "metadata": {},
   "source": [
    "Lets check again whether there are any degenerate points left after including the constraint. There should be none."
   ]
  },
  {
   "cell_type": "code",
   "execution_count": 36,
   "id": "4091f7d3-43c6-4fbe-9572-238f4d249e28",
   "metadata": {
    "tags": []
   },
   "outputs": [
    {
     "data": {
      "text/html": [
       "<div>\n",
       "<style scoped>\n",
       "    .dataframe tbody tr th:only-of-type {\n",
       "        vertical-align: middle;\n",
       "    }\n",
       "\n",
       "    .dataframe tbody tr th {\n",
       "        vertical-align: top;\n",
       "    }\n",
       "\n",
       "    .dataframe thead th {\n",
       "        text-align: right;\n",
       "    }\n",
       "</style>\n",
       "<table border=\"1\" class=\"dataframe\">\n",
       "  <thead>\n",
       "    <tr style=\"text-align: right;\">\n",
       "      <th></th>\n",
       "      <th>Slot_1</th>\n",
       "      <th>Slot_2</th>\n",
       "      <th>Slot_3</th>\n",
       "      <th>Slot_1_Amount</th>\n",
       "      <th>Slot_2_Amount</th>\n",
       "      <th>Slot_3_Amount</th>\n",
       "    </tr>\n",
       "  </thead>\n",
       "  <tbody>\n",
       "    <tr>\n",
       "      <th>1</th>\n",
       "      <td>Toluene</td>\n",
       "      <td>Hexane</td>\n",
       "      <td>Water</td>\n",
       "      <td>0.0</td>\n",
       "      <td>0.1</td>\n",
       "      <td>0.9</td>\n",
       "    </tr>\n",
       "  </tbody>\n",
       "</table>\n",
       "</div>"
      ],
      "text/plain": [
       "    Slot_1  Slot_2 Slot_3  Slot_1_Amount  Slot_2_Amount  Slot_3_Amount\n",
       "1  Toluene  Hexane  Water            0.0            0.1            0.9"
      ]
     },
     "execution_count": 36,
     "metadata": {},
     "output_type": "execute_result"
    }
   ],
   "source": [
    "show_degenerate_points(df = searchspace3c.discrete.exp_rep, \n",
    "                       point = searchspace3c.discrete.exp_rep.iloc[[1]])"
   ]
  },
  {
   "cell_type": "markdown",
   "id": "a61d5fa8-7af6-4991-9181-c0952d3c2a16",
   "metadata": {
    "tags": []
   },
   "source": [
    "## Avoid Permutation Duplicates - `DiscretePermutationInvarianceConstraint`\n",
    "\n",
    "Since the slots are numbered you can see that as natural order of addition. In that case there is no permutation invariance. But if the order does not matter we need to remove permutation invariant search space entries."
   ]
  },
  {
   "cell_type": "code",
   "execution_count": 38,
   "id": "8ad33bbf-f10a-4d66-a80d-7a46b34f77fd",
   "metadata": {
    "tags": []
   },
   "outputs": [],
   "source": [
    "from itertools import permutations\n",
    "\n",
    "def show_permutation_equivalent_points(df, point):\n",
    "    \"\"\"Returns permutation equivalents of `point` that are found in `df`.\"\"\"\n",
    "    \n",
    "    slot_cols = ['Slot_1','Slot_2','Slot_3']\n",
    "    amount_cols = ['Slot_1_Amount','Slot_2_Amount','Slot_3_Amount']\n",
    "    \n",
    "    idxs = []\n",
    "    for perm in permutations([0,1,2]):\n",
    "        slots_permuted = [slot_cols[k] for k in perm]\n",
    "        amount_permuted = [amount_cols[k] for k in perm]\n",
    "        mask = (df[slot_cols].values == point[slots_permuted].values).all(axis=1)\n",
    "        mask &= (df[amount_cols].values == point[amount_permuted].values).all(axis=1)\n",
    "        idxs += df.index[mask].to_list()\n",
    "    \n",
    "    return df.loc[idxs]"
   ]
  },
  {
   "cell_type": "markdown",
   "id": "e1c7189d-db32-4f45-9aa4-9c088c3a3164",
   "metadata": {
    "tags": []
   },
   "source": [
    "Lets check out the permutaiton-equivalent points of a random entry."
   ]
  },
  {
   "cell_type": "code",
   "execution_count": 39,
   "id": "917e0ace-3569-4a6b-95e5-338d6d2bff78",
   "metadata": {
    "tags": []
   },
   "outputs": [
    {
     "data": {
      "text/html": [
       "<div>\n",
       "<style scoped>\n",
       "    .dataframe tbody tr th:only-of-type {\n",
       "        vertical-align: middle;\n",
       "    }\n",
       "\n",
       "    .dataframe tbody tr th {\n",
       "        vertical-align: top;\n",
       "    }\n",
       "\n",
       "    .dataframe thead th {\n",
       "        text-align: right;\n",
       "    }\n",
       "</style>\n",
       "<table border=\"1\" class=\"dataframe\">\n",
       "  <thead>\n",
       "    <tr style=\"text-align: right;\">\n",
       "      <th></th>\n",
       "      <th>Slot_1</th>\n",
       "      <th>Slot_2</th>\n",
       "      <th>Slot_3</th>\n",
       "      <th>Slot_1_Amount</th>\n",
       "      <th>Slot_2_Amount</th>\n",
       "      <th>Slot_3_Amount</th>\n",
       "    </tr>\n",
       "  </thead>\n",
       "  <tbody>\n",
       "    <tr>\n",
       "      <th>3712</th>\n",
       "      <td>Ethanol</td>\n",
       "      <td>Water</td>\n",
       "      <td>Dioxane</td>\n",
       "      <td>0.7</td>\n",
       "      <td>0.2</td>\n",
       "      <td>0.1</td>\n",
       "    </tr>\n",
       "    <tr>\n",
       "      <th>805</th>\n",
       "      <td>Ethanol</td>\n",
       "      <td>Dioxane</td>\n",
       "      <td>Water</td>\n",
       "      <td>0.7</td>\n",
       "      <td>0.1</td>\n",
       "      <td>0.2</td>\n",
       "    </tr>\n",
       "    <tr>\n",
       "      <th>4207</th>\n",
       "      <td>Water</td>\n",
       "      <td>Ethanol</td>\n",
       "      <td>Dioxane</td>\n",
       "      <td>0.2</td>\n",
       "      <td>0.7</td>\n",
       "      <td>0.1</td>\n",
       "    </tr>\n",
       "    <tr>\n",
       "      <th>5012</th>\n",
       "      <td>Water</td>\n",
       "      <td>Dioxane</td>\n",
       "      <td>Ethanol</td>\n",
       "      <td>0.2</td>\n",
       "      <td>0.1</td>\n",
       "      <td>0.7</td>\n",
       "    </tr>\n",
       "    <tr>\n",
       "      <th>962</th>\n",
       "      <td>Dioxane</td>\n",
       "      <td>Ethanol</td>\n",
       "      <td>Water</td>\n",
       "      <td>0.1</td>\n",
       "      <td>0.7</td>\n",
       "      <td>0.2</td>\n",
       "    </tr>\n",
       "    <tr>\n",
       "      <th>4484</th>\n",
       "      <td>Dioxane</td>\n",
       "      <td>Water</td>\n",
       "      <td>Ethanol</td>\n",
       "      <td>0.1</td>\n",
       "      <td>0.2</td>\n",
       "      <td>0.7</td>\n",
       "    </tr>\n",
       "  </tbody>\n",
       "</table>\n",
       "</div>"
      ],
      "text/plain": [
       "       Slot_1   Slot_2   Slot_3  Slot_1_Amount  Slot_2_Amount  Slot_3_Amount\n",
       "3712  Ethanol    Water  Dioxane            0.7            0.2            0.1\n",
       "805   Ethanol  Dioxane    Water            0.7            0.1            0.2\n",
       "4207    Water  Ethanol  Dioxane            0.2            0.7            0.1\n",
       "5012    Water  Dioxane  Ethanol            0.2            0.1            0.7\n",
       "962   Dioxane  Ethanol    Water            0.1            0.7            0.2\n",
       "4484  Dioxane    Water  Ethanol            0.1            0.2            0.7"
      ]
     },
     "execution_count": 39,
     "metadata": {},
     "output_type": "execute_result"
    }
   ],
   "source": [
    "show_permutation_equivalent_points(df = searchspace3c.discrete.exp_rep,\n",
    "                                   point = searchspace3c.discrete.exp_rep.sample(1))"
   ]
  },
  {
   "cell_type": "markdown",
   "id": "cdab3868-68e6-4c6d-8dea-0c12f615c2c4",
   "metadata": {},
   "source": [
    "All of these points are equivalent. \n",
    "All except 1 must be removed from the searchspace.\n",
    "This is what `DiscretePermutationInvarianceConstraint` does."
   ]
  },
  {
   "cell_type": "code",
   "execution_count": 40,
   "id": "52162b71-79a9-44f0-8751-d57df0051481",
   "metadata": {
    "tags": []
   },
   "outputs": [],
   "source": [
    "from baybe.constraints import DiscretePermutationInvarianceConstraint\n",
    "\n",
    "perm_inv_constraint = DiscretePermutationInvarianceConstraint(\n",
    "    parameters = [p.name for p in slots],\n",
    "    dependencies = dependency_constraint\n",
    ")\n",
    "\n",
    "searchspace3d = SearchSpace.from_product(parameters = slots + slot_amounts,\n",
    "                                         constraints = [sum_constraint,\n",
    "                                                        no_label_duplicate_constraint,\n",
    "                                                        perm_inv_constraint])"
   ]
  },
  {
   "cell_type": "markdown",
   "id": "102cf4d4-939b-495c-9284-7af35da4ab48",
   "metadata": {
    "tags": []
   },
   "source": [
    "Lets re-check whether there are any permutaiton-invariant entries left."
   ]
  },
  {
   "cell_type": "code",
   "execution_count": 20,
   "id": "8b6af99a-bae4-423a-8a32-0e92450480b3",
   "metadata": {
    "tags": []
   },
   "outputs": [
    {
     "data": {
      "text/html": [
       "<div>\n",
       "<style scoped>\n",
       "    .dataframe tbody tr th:only-of-type {\n",
       "        vertical-align: middle;\n",
       "    }\n",
       "\n",
       "    .dataframe tbody tr th {\n",
       "        vertical-align: top;\n",
       "    }\n",
       "\n",
       "    .dataframe thead th {\n",
       "        text-align: right;\n",
       "    }\n",
       "</style>\n",
       "<table border=\"1\" class=\"dataframe\">\n",
       "  <thead>\n",
       "    <tr style=\"text-align: right;\">\n",
       "      <th></th>\n",
       "      <th>Slot_1</th>\n",
       "      <th>Slot_2</th>\n",
       "      <th>Slot_3</th>\n",
       "      <th>Slot_1_Amount</th>\n",
       "      <th>Slot_2_Amount</th>\n",
       "      <th>Slot_3_Amount</th>\n",
       "    </tr>\n",
       "  </thead>\n",
       "  <tbody>\n",
       "    <tr>\n",
       "      <th>30</th>\n",
       "      <td>Toluene</td>\n",
       "      <td>Hexane</td>\n",
       "      <td>Water</td>\n",
       "      <td>0.3</td>\n",
       "      <td>0.0</td>\n",
       "      <td>0.7</td>\n",
       "    </tr>\n",
       "  </tbody>\n",
       "</table>\n",
       "</div>"
      ],
      "text/plain": [
       "     Slot_1  Slot_2 Slot_3  Slot_1_Amount  Slot_2_Amount  Slot_3_Amount\n",
       "30  Toluene  Hexane  Water            0.3            0.0            0.7"
      ]
     },
     "execution_count": 20,
     "metadata": {},
     "output_type": "execute_result"
    }
   ],
   "source": [
    "show_permutation_equivalent_points(df = searchspace3d.discrete.exp_rep,\n",
    "                                   point = searchspace3d.discrete.exp_rep.sample(1))"
   ]
  },
  {
   "cell_type": "markdown",
   "id": "d0a758a5-ecb1-4cdf-ac4c-f6726c215a6c",
   "metadata": {
    "tags": []
   },
   "source": [
    "## A Look at the Final Search Space\n",
    "\n",
    "It is much smaller than the original one that did not consider the various invariances."
   ]
  },
  {
   "cell_type": "code",
   "execution_count": 41,
   "id": "ea57ed4b-899a-4df8-a7a5-b730b964b517",
   "metadata": {
    "tags": []
   },
   "outputs": [
    {
     "data": {
      "text/html": [
       "<div>\n",
       "<style scoped>\n",
       "    .dataframe tbody tr th:only-of-type {\n",
       "        vertical-align: middle;\n",
       "    }\n",
       "\n",
       "    .dataframe tbody tr th {\n",
       "        vertical-align: top;\n",
       "    }\n",
       "\n",
       "    .dataframe thead th {\n",
       "        text-align: right;\n",
       "    }\n",
       "</style>\n",
       "<table border=\"1\" class=\"dataframe\">\n",
       "  <thead>\n",
       "    <tr style=\"text-align: right;\">\n",
       "      <th></th>\n",
       "      <th>Slot_1</th>\n",
       "      <th>Slot_2</th>\n",
       "      <th>Slot_3</th>\n",
       "      <th>Slot_1_Amount</th>\n",
       "      <th>Slot_2_Amount</th>\n",
       "      <th>Slot_3_Amount</th>\n",
       "    </tr>\n",
       "  </thead>\n",
       "  <tbody>\n",
       "    <tr>\n",
       "      <th>0</th>\n",
       "      <td>Toluene</td>\n",
       "      <td>Hexane</td>\n",
       "      <td>Water</td>\n",
       "      <td>0.0</td>\n",
       "      <td>0.0</td>\n",
       "      <td>1.0</td>\n",
       "    </tr>\n",
       "    <tr>\n",
       "      <th>1</th>\n",
       "      <td>Toluene</td>\n",
       "      <td>Hexane</td>\n",
       "      <td>Water</td>\n",
       "      <td>0.0</td>\n",
       "      <td>0.1</td>\n",
       "      <td>0.9</td>\n",
       "    </tr>\n",
       "    <tr>\n",
       "      <th>2</th>\n",
       "      <td>Toluene</td>\n",
       "      <td>Hexane</td>\n",
       "      <td>Water</td>\n",
       "      <td>0.0</td>\n",
       "      <td>0.2</td>\n",
       "      <td>0.8</td>\n",
       "    </tr>\n",
       "    <tr>\n",
       "      <th>3</th>\n",
       "      <td>Toluene</td>\n",
       "      <td>Hexane</td>\n",
       "      <td>Water</td>\n",
       "      <td>0.0</td>\n",
       "      <td>0.3</td>\n",
       "      <td>0.7</td>\n",
       "    </tr>\n",
       "    <tr>\n",
       "      <th>4</th>\n",
       "      <td>Toluene</td>\n",
       "      <td>Hexane</td>\n",
       "      <td>Water</td>\n",
       "      <td>0.0</td>\n",
       "      <td>0.4</td>\n",
       "      <td>0.6</td>\n",
       "    </tr>\n",
       "    <tr>\n",
       "      <th>...</th>\n",
       "      <td>...</td>\n",
       "      <td>...</td>\n",
       "      <td>...</td>\n",
       "      <td>...</td>\n",
       "      <td>...</td>\n",
       "      <td>...</td>\n",
       "    </tr>\n",
       "    <tr>\n",
       "      <th>856</th>\n",
       "      <td>Ethanol</td>\n",
       "      <td>Dioxane</td>\n",
       "      <td>DMF</td>\n",
       "      <td>0.6</td>\n",
       "      <td>0.2</td>\n",
       "      <td>0.2</td>\n",
       "    </tr>\n",
       "    <tr>\n",
       "      <th>857</th>\n",
       "      <td>Ethanol</td>\n",
       "      <td>Dioxane</td>\n",
       "      <td>DMF</td>\n",
       "      <td>0.6</td>\n",
       "      <td>0.3</td>\n",
       "      <td>0.1</td>\n",
       "    </tr>\n",
       "    <tr>\n",
       "      <th>858</th>\n",
       "      <td>Ethanol</td>\n",
       "      <td>Dioxane</td>\n",
       "      <td>DMF</td>\n",
       "      <td>0.7</td>\n",
       "      <td>0.1</td>\n",
       "      <td>0.2</td>\n",
       "    </tr>\n",
       "    <tr>\n",
       "      <th>859</th>\n",
       "      <td>Ethanol</td>\n",
       "      <td>Dioxane</td>\n",
       "      <td>DMF</td>\n",
       "      <td>0.7</td>\n",
       "      <td>0.2</td>\n",
       "      <td>0.1</td>\n",
       "    </tr>\n",
       "    <tr>\n",
       "      <th>860</th>\n",
       "      <td>Ethanol</td>\n",
       "      <td>Dioxane</td>\n",
       "      <td>DMF</td>\n",
       "      <td>0.8</td>\n",
       "      <td>0.1</td>\n",
       "      <td>0.1</td>\n",
       "    </tr>\n",
       "  </tbody>\n",
       "</table>\n",
       "<p>861 rows × 6 columns</p>\n",
       "</div>"
      ],
      "text/plain": [
       "      Slot_1   Slot_2 Slot_3  Slot_1_Amount  Slot_2_Amount  Slot_3_Amount\n",
       "0    Toluene   Hexane  Water            0.0            0.0            1.0\n",
       "1    Toluene   Hexane  Water            0.0            0.1            0.9\n",
       "2    Toluene   Hexane  Water            0.0            0.2            0.8\n",
       "3    Toluene   Hexane  Water            0.0            0.3            0.7\n",
       "4    Toluene   Hexane  Water            0.0            0.4            0.6\n",
       "..       ...      ...    ...            ...            ...            ...\n",
       "856  Ethanol  Dioxane    DMF            0.6            0.2            0.2\n",
       "857  Ethanol  Dioxane    DMF            0.6            0.3            0.1\n",
       "858  Ethanol  Dioxane    DMF            0.7            0.1            0.2\n",
       "859  Ethanol  Dioxane    DMF            0.7            0.2            0.1\n",
       "860  Ethanol  Dioxane    DMF            0.8            0.1            0.1\n",
       "\n",
       "[861 rows x 6 columns]"
      ]
     },
     "execution_count": 41,
     "metadata": {},
     "output_type": "execute_result"
    }
   ],
   "source": [
    "searchspace3d.discrete.exp_rep"
   ]
  },
  {
   "cell_type": "code",
   "execution_count": null,
   "id": "717b9f4c-119c-4813-a87a-ff58a5126c9d",
   "metadata": {},
   "outputs": [],
   "source": []
  },
  {
   "cell_type": "markdown",
   "id": "d4e648b7-4b74-4e80-bf6c-710dc465e63d",
   "metadata": {
    "tags": []
   },
   "source": [
    "# In Progress: Bringing it All Togehter"
   ]
  },
  {
   "cell_type": "markdown",
   "id": "d0a05645-f39e-4e98-b214-61091441d9cb",
   "metadata": {},
   "source": [
    "To model slot-based mixtures we will soon provide a custom constructor. This will take care of creation the necessary constraints automatically\n",
    "```python\n",
    "discrete_subspace = SubspaceDiscrete.from_slot_based_mixture(\n",
    "    slots, # parameters that can be arbitrarily encoded\n",
    "    setpoints,\n",
    "    permutation_invariant = True # when order of addition does not matter\n",
    ")\n",
    "```\n",
    "\n",
    "(not yet executable)"
   ]
  }
 ],
 "metadata": {
  "kernelspec": {
   "display_name": "BayBE-dev",
   "language": "python",
   "name": "baybe-dev"
  },
  "language_info": {
   "codemirror_mode": {
    "name": "ipython",
    "version": 3
   },
   "file_extension": ".py",
   "mimetype": "text/x-python",
   "name": "python",
   "nbconvert_exporter": "python",
   "pygments_lexer": "ipython3",
   "version": "3.12.4"
  }
 },
 "nbformat": 4,
 "nbformat_minor": 5
}
